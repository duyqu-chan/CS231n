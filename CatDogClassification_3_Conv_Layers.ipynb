{
  "nbformat": 4,
  "nbformat_minor": 0,
  "metadata": {
    "colab": {
      "name": "CatDogClassification-3 Conv Layers.ipynb",
      "version": "0.3.2",
      "provenance": [],
      "collapsed_sections": [],
      "include_colab_link": true
    },
    "kernelspec": {
      "name": "python3",
      "display_name": "Python 3"
    },
    "accelerator": "GPU"
  },
  "cells": [
    {
      "cell_type": "markdown",
      "metadata": {
        "id": "view-in-github",
        "colab_type": "text"
      },
      "source": [
        "<a href=\"https://colab.research.google.com/github/duyqu-chan/CS231n/blob/master/CatDogClassification_3_Conv_Layers.ipynb\" target=\"_parent\"><img src=\"https://colab.research.google.com/assets/colab-badge.svg\" alt=\"Open In Colab\"/></a>"
      ]
    },
    {
      "cell_type": "markdown",
      "metadata": {
        "id": "FL8pkMW3tq35",
        "colab_type": "text"
      },
      "source": [
        "# Cat-Dog Classification Homework\n"
      ]
    },
    {
      "cell_type": "markdown",
      "metadata": {
        "id": "ExOdh1VQ4TS1",
        "colab_type": "text"
      },
      "source": [
        "First, we will get the raw data from a GitHub[ repo](https://github.com/ardamavi/Dog-Cat-Classifier/tree/master/Data/npy_train_data)."
      ]
    },
    {
      "cell_type": "code",
      "metadata": {
        "id": "tDFFDQQk4PpQ",
        "colab_type": "code",
        "outputId": "4ceec26e-cb55-43da-a828-facd2d8f5133",
        "colab": {
          "base_uri": "https://localhost:8080/",
          "height": 697
        }
      },
      "source": [
        "# X:\n",
        "! wget https://github.com/ardamavi/Dog-Cat-Classifier/blob/master/Data/npy_train_data/X.npy?raw=true -O X.npy\n",
        "  \n",
        "# Y:\n",
        "! wget https://github.com/ardamavi/Dog-Cat-Classifier/blob/master/Data/npy_train_data/Y.npy?raw=true -O Y.npy"
      ],
      "execution_count": 2,
      "outputs": [
        {
          "output_type": "stream",
          "text": [
            "--2019-06-19 04:27:12--  https://github.com/ardamavi/Dog-Cat-Classifier/blob/master/Data/npy_train_data/X.npy?raw=true\n",
            "Resolving github.com (github.com)... 52.69.186.44\n",
            "Connecting to github.com (github.com)|52.69.186.44|:443... connected.\n",
            "HTTP request sent, awaiting response... 302 Found\n",
            "Location: https://github.com/ardamavi/Dog-Cat-Classifier/raw/master/Data/npy_train_data/X.npy [following]\n",
            "--2019-06-19 04:27:12--  https://github.com/ardamavi/Dog-Cat-Classifier/raw/master/Data/npy_train_data/X.npy\n",
            "Reusing existing connection to github.com:443.\n",
            "HTTP request sent, awaiting response... 302 Found\n",
            "Location: https://media.githubusercontent.com/media/ardamavi/Dog-Cat-Classifier/master/Data/npy_train_data/X.npy [following]\n",
            "--2019-06-19 04:27:12--  https://media.githubusercontent.com/media/ardamavi/Dog-Cat-Classifier/master/Data/npy_train_data/X.npy\n",
            "Resolving media.githubusercontent.com (media.githubusercontent.com)... 151.101.0.133, 151.101.64.133, 151.101.128.133, ...\n",
            "Connecting to media.githubusercontent.com (media.githubusercontent.com)|151.101.0.133|:443... connected.\n",
            "HTTP request sent, awaiting response... 200 OK\n",
            "Length: 137625696 (131M) [application/octet-stream]\n",
            "Saving to: ‘X.npy’\n",
            "\n",
            "X.npy               100%[===================>] 131.25M   330MB/s    in 0.4s    \n",
            "\n",
            "2019-06-19 04:27:16 (330 MB/s) - ‘X.npy’ saved [137625696/137625696]\n",
            "\n",
            "--2019-06-19 04:27:17--  https://github.com/ardamavi/Dog-Cat-Classifier/blob/master/Data/npy_train_data/Y.npy?raw=true\n",
            "Resolving github.com (github.com)... 52.69.186.44\n",
            "Connecting to github.com (github.com)|52.69.186.44|:443... connected.\n",
            "HTTP request sent, awaiting response... 302 Found\n",
            "Location: https://github.com/ardamavi/Dog-Cat-Classifier/raw/master/Data/npy_train_data/Y.npy [following]\n",
            "--2019-06-19 04:27:17--  https://github.com/ardamavi/Dog-Cat-Classifier/raw/master/Data/npy_train_data/Y.npy\n",
            "Reusing existing connection to github.com:443.\n",
            "HTTP request sent, awaiting response... 302 Found\n",
            "Location: https://media.githubusercontent.com/media/ardamavi/Dog-Cat-Classifier/master/Data/npy_train_data/Y.npy [following]\n",
            "--2019-06-19 04:27:18--  https://media.githubusercontent.com/media/ardamavi/Dog-Cat-Classifier/master/Data/npy_train_data/Y.npy\n",
            "Resolving media.githubusercontent.com (media.githubusercontent.com)... 151.101.0.133, 151.101.64.133, 151.101.128.133, ...\n",
            "Connecting to media.githubusercontent.com (media.githubusercontent.com)|151.101.0.133|:443... connected.\n",
            "HTTP request sent, awaiting response... 200 OK\n",
            "Length: 22480 (22K) [application/octet-stream]\n",
            "Saving to: ‘Y.npy’\n",
            "\n",
            "Y.npy               100%[===================>]  21.95K  --.-KB/s    in 0s      \n",
            "\n",
            "2019-06-19 04:27:18 (134 MB/s) - ‘Y.npy’ saved [22480/22480]\n",
            "\n"
          ],
          "name": "stdout"
        }
      ]
    },
    {
      "cell_type": "markdown",
      "metadata": {
        "id": "JEdL_rkw4qb2",
        "colab_type": "text"
      },
      "source": [
        "Now, we have the following files:"
      ]
    },
    {
      "cell_type": "code",
      "metadata": {
        "id": "MiCbbjQM6MpB",
        "colab_type": "code",
        "outputId": "ad1bc489-9c79-4b49-f183-149556cf8343",
        "colab": {
          "base_uri": "https://localhost:8080/",
          "height": 34
        }
      },
      "source": [
        "!ls"
      ],
      "execution_count": 3,
      "outputs": [
        {
          "output_type": "stream",
          "text": [
            "sample_data  X.npy  Y.npy\n"
          ],
          "name": "stdout"
        }
      ]
    },
    {
      "cell_type": "markdown",
      "metadata": {
        "id": "gd4IXMVG5bdg",
        "colab_type": "text"
      },
      "source": [
        "We can read the data as follows:"
      ]
    },
    {
      "cell_type": "code",
      "metadata": {
        "id": "8WMayKBA6Vsu",
        "colab_type": "code",
        "colab": {}
      },
      "source": [
        "import numpy as np\n",
        "\n",
        "X = np.load('X.npy')\n",
        "Y = np.load('Y.npy')"
      ],
      "execution_count": 0,
      "outputs": []
    },
    {
      "cell_type": "markdown",
      "metadata": {
        "id": "1N9MokgSf2qY",
        "colab_type": "text"
      },
      "source": [
        "## About the Dataset"
      ]
    },
    {
      "cell_type": "markdown",
      "metadata": {
        "id": "Fq3ozCBy60Bj",
        "colab_type": "text"
      },
      "source": [
        "There are 1400 images belonging to two classes (cat or dog). The resolution is 64x64 and there are 3 color channels for red, green and blue."
      ]
    },
    {
      "cell_type": "code",
      "metadata": {
        "id": "Bp-dip5G5xZi",
        "colab_type": "code",
        "outputId": "35131497-6fff-4e8b-bd7b-0ba0f0bdf46e",
        "colab": {
          "base_uri": "https://localhost:8080/",
          "height": 51
        }
      },
      "source": [
        "print('X Shape:', X.shape)\n",
        "print('Y Shape:', Y.shape)"
      ],
      "execution_count": 5,
      "outputs": [
        {
          "output_type": "stream",
          "text": [
            "X Shape: (1400, 64, 64, 3)\n",
            "Y Shape: (1400, 2)\n"
          ],
          "name": "stdout"
        }
      ]
    },
    {
      "cell_type": "markdown",
      "metadata": {
        "id": "B0NLBVZei7xG",
        "colab_type": "text"
      },
      "source": [
        "Hopefully, we have uniform categorical distribution."
      ]
    },
    {
      "cell_type": "code",
      "metadata": {
        "id": "io_jQ4DhimEA",
        "colab_type": "code",
        "outputId": "9e9bcd8a-d768-4a2e-e302-4da22c78acef",
        "colab": {
          "base_uri": "https://localhost:8080/",
          "height": 286
        }
      },
      "source": [
        "import seaborn as sns\n",
        "category = Y[:,0]\n",
        "sns.countplot(category)"
      ],
      "execution_count": 6,
      "outputs": [
        {
          "output_type": "execute_result",
          "data": {
            "text/plain": [
              "<matplotlib.axes._subplots.AxesSubplot at 0x7f7cde4a53c8>"
            ]
          },
          "metadata": {
            "tags": []
          },
          "execution_count": 6
        },
        {
          "output_type": "display_data",
          "data": {
            "image/png": "[encoded data removed]",
            "text/plain": [
              "<Figure size 432x288 with 1 Axes>"
            ]
          },
          "metadata": {
            "tags": []
          }
        }
      ]
    },
    {
      "cell_type": "markdown",
      "metadata": {
        "id": "Onp5GbVPTCZ3",
        "colab_type": "text"
      },
      "source": [
        "Let's visualize 76th sample."
      ]
    },
    {
      "cell_type": "code",
      "metadata": {
        "id": "v1vfZaPaUrna",
        "colab_type": "code",
        "outputId": "b284279f-75da-43e1-fc75-f3de098eedc0",
        "colab": {
          "base_uri": "https://localhost:8080/",
          "height": 281
        }
      },
      "source": [
        "import matplotlib\n",
        "import matplotlib.pyplot as plt\n",
        "\n",
        "sample_index = 76\n",
        "%matplotlib inline\n",
        "img = X[sample_index]/255 #normalize the image vector into 0-255 range\n",
        "labelArr = Y[sample_index]\n",
        "\n",
        "#decode label\n",
        "if (labelArr == [1, 0]).all():\n",
        "  label = \"cat\"\n",
        "else:\n",
        "  label = \"dog\"\n",
        "  \n",
        "plt.imshow(img, interpolation='nearest')\n",
        "plt.axis(\"off\")\n",
        "plt.title(label)\n",
        "plt.show()"
      ],
      "execution_count": 7,
      "outputs": [
        {
          "output_type": "display_data",
          "data": {
            "image/png": "[encoded data removed]",
            "text/plain": [
              "<Figure size 432x288 with 1 Axes>"
            ]
          },
          "metadata": {
            "tags": []
          }
        }
      ]
    },
    {
      "cell_type": "markdown",
      "metadata": {
        "id": "6Mo4KYqAtjQb",
        "colab_type": "text"
      },
      "source": [
        "## Pre-processing\n",
        "\n",
        "Normalization"
      ]
    },
    {
      "cell_type": "code",
      "metadata": {
        "id": "-Sy3vDTbtZR5",
        "colab_type": "code",
        "colab": {
          "base_uri": "https://localhost:8080/",
          "height": 34
        },
        "outputId": "42701482-a497-4ffa-fc6a-5a04d0ae0794"
      },
      "source": [
        "from keras.utils import to_categorical\n",
        "\n",
        "X /= 255.\n",
        "#shuffle\n",
        "idx = np.random.permutation(len(X))\n",
        "X,Y= X[idx], Y[idx]\n"
      ],
      "execution_count": 8,
      "outputs": [
        {
          "output_type": "stream",
          "text": [
            "Using TensorFlow backend.\n"
          ],
          "name": "stderr"
        }
      ]
    },
    {
      "cell_type": "markdown",
      "metadata": {
        "id": "cmlCbRpfdt6B",
        "colab_type": "text"
      },
      "source": [
        "## Train/Test Split\n",
        "\n",
        "We reserved 90% of the data for training and 10% for validation. To better represent test data with training data stratified sampling is used."
      ]
    },
    {
      "cell_type": "code",
      "metadata": {
        "id": "u1oF5GrnYt1w",
        "colab_type": "code",
        "colab": {}
      },
      "source": [
        "from sklearn.model_selection import train_test_split\n",
        "\n",
        "X, X_test, Y, Y_test = train_test_split(X,Y,test_size = 0.1,stratify=Y, random_state = 42) #random seed i sabitle"
      ],
      "execution_count": 0,
      "outputs": []
    },
    {
      "cell_type": "code",
      "metadata": {
        "id": "R19yTOXMbgyX",
        "colab_type": "code",
        "outputId": "952ef76b-9fa6-4b0c-caf7-7723722069c7",
        "colab": {
          "base_uri": "https://localhost:8080/",
          "height": 286
        }
      },
      "source": [
        "import seaborn as sns\n",
        "category = Y_test[:,0]\n",
        "sns.countplot(category)"
      ],
      "execution_count": 10,
      "outputs": [
        {
          "output_type": "execute_result",
          "data": {
            "text/plain": [
              "<matplotlib.axes._subplots.AxesSubplot at 0x7f7cb53c8dd8>"
            ]
          },
          "metadata": {
            "tags": []
          },
          "execution_count": 10
        },
        {
          "output_type": "display_data",
          "data": {
            "image/png": "[encoded data removed]",
            "text/plain": [
              "<Figure size 432x288 with 1 Axes>"
            ]
          },
          "metadata": {
            "tags": []
          }
        }
      ]
    },
    {
      "cell_type": "markdown",
      "metadata": {
        "id": "ogb2zjwnfVIV",
        "colab_type": "text"
      },
      "source": [
        "## Building the Model"
      ]
    },
    {
      "cell_type": "code",
      "metadata": {
        "id": "vtZqcBvJl2mP",
        "colab_type": "code",
        "colab": {}
      },
      "source": [
        "# parameters to be optimized\n",
        "inputShape = (64, 64, 3)\n",
        "classNum = Y.shape[1]\n",
        "k1 = 5 # Kernel dimension of the 1st layer\n",
        "f1 = 32 # the number of output filters in the 1st layer\n",
        "k2 = 3 # Kernel dimension of the 2nd layer\n",
        "f2 = 64 # the number of output filters in the 2nd layer\n",
        "k3 = 3 # Kernel dimension of the 3rd layer\n",
        "f3 = 128 # the number of output filters in the 3rd layer\n",
        "\n",
        "d_conv = 0.25 # dropout rate of the convolutional layers\n",
        "d_dense = 0.5 # dropout rate of the dense layer\n",
        "\n",
        "Epochs = 45 # \n",
        "batchSize = 8 # number of randomly taken samples from features and labels to feed into each epoch until an epoch limit is reached."
      ],
      "execution_count": 0,
      "outputs": []
    },
    {
      "cell_type": "code",
      "metadata": {
        "id": "JwXLITZkXiS9",
        "colab_type": "code",
        "outputId": "cbd09458-c9f2-4a88-94bf-552995850610",
        "colab": {
          "base_uri": "https://localhost:8080/",
          "height": 714
        }
      },
      "source": [
        "import keras\n",
        "from keras.models import Sequential\n",
        "from keras.layers import Dense, Dropout, Flatten,  BatchNormalization, Conv2D, MaxPooling2D, Activation\n",
        "from keras import backend as K\n",
        "from keras.callbacks import LearningRateScheduler\n",
        "from keras.layers import LeakyReLU\n",
        "\n",
        "model = Sequential()\n",
        "\n",
        "model.add(Conv2D(filters=f1,kernel_size=(k1,k1),padding='Same',kernel_initializer=\"glorot_normal\", \n",
        "                 input_shape = inputShape))\n",
        "model.add(BatchNormalization())\n",
        "#model.add(Activation('relu'))\n",
        "# now add a ReLU layer explicitly:\n",
        "model.add(LeakyReLU(alpha=0.05))\n",
        "model.add(MaxPooling2D(pool_size=(2,2)))\n",
        "#model.add(Dropout(d_conv))\n",
        "\n",
        "\n",
        "model.add(Conv2D(filters=f2,kernel_size=(k2,k2),padding='Same',kernel_initializer=\"glorot_normal\"))\n",
        "model.add(BatchNormalization())\n",
        "#model.add(Activation('relu'))\n",
        "# now add a ReLU layer explicitly:\n",
        "model.add(LeakyReLU(alpha=0.05))\n",
        "model.add(MaxPooling2D(pool_size=(2,2)))\n",
        "model.add(Dropout(rate =d_conv))\n",
        "\n",
        "\n",
        "\n",
        "model.add(Conv2D(filters = f3, kernel_size = (k3,k3),padding = 'Same',kernel_initializer=\"glorot_normal\"))\n",
        "model.add(BatchNormalization())\n",
        "#model.add(Activation('relu'))\n",
        "# now add a ReLU layer explicitly:\n",
        "model.add(LeakyReLU(alpha=0.05))\n",
        "model.add(MaxPooling2D(pool_size=(2,2)))\n",
        "#model.add(Dropout(d_conv))\n",
        " \n",
        "model.add(Flatten())\n",
        "model.add(Dense(256, activation = \"relu\"))\n",
        "model.add(Dropout(rate =d_dense))\n",
        "model.add(Dense(classNum, activation = \"softmax\"))\n",
        "\n",
        "model.summary()"
      ],
      "execution_count": 18,
      "outputs": [
        {
          "output_type": "stream",
          "text": [
            "_________________________________________________________________\n",
            "Layer (type)                 Output Shape              Param #   \n",
            "=================================================================\n",
            "conv2d_7 (Conv2D)            (None, 64, 64, 32)        2432      \n",
            "_________________________________________________________________\n",
            "batch_normalization_7 (Batch (None, 64, 64, 32)        128       \n",
            "_________________________________________________________________\n",
            "leaky_re_lu_7 (LeakyReLU)    (None, 64, 64, 32)        0         \n",
            "_________________________________________________________________\n",
            "max_pooling2d_5 (MaxPooling2 (None, 32, 32, 32)        0         \n",
            "_________________________________________________________________\n",
            "conv2d_8 (Conv2D)            (None, 32, 32, 64)        18496     \n",
            "_________________________________________________________________\n",
            "batch_normalization_8 (Batch (None, 32, 32, 64)        256       \n",
            "_________________________________________________________________\n",
            "leaky_re_lu_8 (LeakyReLU)    (None, 32, 32, 64)        0         \n",
            "_________________________________________________________________\n",
            "max_pooling2d_6 (MaxPooling2 (None, 16, 16, 64)        0         \n",
            "_________________________________________________________________\n",
            "dropout_5 (Dropout)          (None, 16, 16, 64)        0         \n",
            "_________________________________________________________________\n",
            "conv2d_9 (Conv2D)            (None, 16, 16, 128)       73856     \n",
            "_________________________________________________________________\n",
            "batch_normalization_9 (Batch (None, 16, 16, 128)       512       \n",
            "_________________________________________________________________\n",
            "leaky_re_lu_9 (LeakyReLU)    (None, 16, 16, 128)       0         \n",
            "_________________________________________________________________\n",
            "max_pooling2d_7 (MaxPooling2 (None, 8, 8, 128)         0         \n",
            "_________________________________________________________________\n",
            "flatten_3 (Flatten)          (None, 8192)              0         \n",
            "_________________________________________________________________\n",
            "dense_5 (Dense)              (None, 256)               2097408   \n",
            "_________________________________________________________________\n",
            "dropout_6 (Dropout)          (None, 256)               0         \n",
            "_________________________________________________________________\n",
            "dense_6 (Dense)              (None, 2)                 514       \n",
            "=================================================================\n",
            "Total params: 2,193,602\n",
            "Trainable params: 2,193,154\n",
            "Non-trainable params: 448\n",
            "_________________________________________________________________\n"
          ],
          "name": "stdout"
        }
      ]
    },
    {
      "cell_type": "markdown",
      "metadata": {
        "id": "WeZBTBmVvEvc",
        "colab_type": "text"
      },
      "source": [
        "## Compilation"
      ]
    },
    {
      "cell_type": "code",
      "metadata": {
        "id": "2g3YdAi5ucpQ",
        "colab_type": "code",
        "colab": {}
      },
      "source": [
        "# initiate RMSprop optimizer\n",
        "\n",
        "#opt = keras.optimizers.RMSprop(lr=0.001, rho=0.9, epsilon=None, decay=1e-2)\n",
        "#opt = keras.optimizers.SGD(lr=0.001, momentum=0.0, decay=0.0, nesterov=False)\n",
        "#opt = keras.optimizers.Adagrad(lr=0.01, epsilon=None, decay=0.0)\n",
        "#opt =keras.optimizers.Adadelta(lr=1.0, rho=0.95, epsilon=None, decay=0.0)\n",
        "#opt = keras.optimizers.Adam(lr=0.001, beta_1=0.9, beta_2=0.999, epsilon=None, decay=0.0, amsgrad=False)\n",
        "opt = keras.optimizers.Adamax(lr=0.002, beta_1=0.9, beta_2=0.999, epsilon=None, decay=0)\n",
        "#opt = keras.optimizers.Nadam(lr=0.002, beta_1=0.9, beta_2=0.999, epsilon=None, schedule_decay=0.004)\n",
        "model.compile(loss=keras.losses.categorical_crossentropy,\n",
        "              optimizer=opt, #instead of annealer decay = DR can be set, too\n",
        "              metrics=['accuracy'])\n",
        "#annealer = LearningRateScheduler(lambda x: 1e-3 * 0.9 ** x)"
      ],
      "execution_count": 0,
      "outputs": []
    },
    {
      "cell_type": "markdown",
      "metadata": {
        "id": "bwAp9UOLwa3R",
        "colab_type": "text"
      },
      "source": [
        "## Data Augmentation"
      ]
    },
    {
      "cell_type": "code",
      "metadata": {
        "id": "Dn-rZ4OowaFQ",
        "colab_type": "code",
        "outputId": "31848a38-1106-412c-df35-31c1c4de6c59",
        "colab": {
          "base_uri": "https://localhost:8080/",
          "height": 51
        }
      },
      "source": [
        "from keras.preprocessing.image import ImageDataGenerator\n",
        "datagen = ImageDataGenerator(\n",
        "        rotation_range=25,  # randomly rotate images in the range (degrees, 0 to 180)\n",
        "        zoom_range = 0.2, # Randomly zoom image \n",
        "        width_shift_range=0.2,  # randomly shift images horizontally (fraction of total width)\n",
        "        height_shift_range=0.2,  # randomly shift images vertically (fraction of total height)\n",
        "        horizontal_flip=True,  # randomly flip images\n",
        "        vertical_flip=False)  # randomly flip images\n",
        "\n",
        "print(X.shape)\n",
        "datagen.fit(X)\n",
        "print(X.shape)"
      ],
      "execution_count": 23,
      "outputs": [
        {
          "output_type": "stream",
          "text": [
            "(1260, 64, 64, 3)\n",
            "(1260, 64, 64, 3)\n"
          ],
          "name": "stdout"
        }
      ]
    },
    {
      "cell_type": "markdown",
      "metadata": {
        "id": "p2O9dypAyesy",
        "colab_type": "text"
      },
      "source": [
        "## Training"
      ]
    },
    {
      "cell_type": "code",
      "metadata": {
        "id": "ci3xe8L5yeMi",
        "colab_type": "code",
        "outputId": "dc3d3bed-1d48-4eb9-e698-ae93f1c9ff19",
        "colab": {
          "base_uri": "https://localhost:8080/",
          "height": 1547
        }
      },
      "source": [
        "# Fit the model\n",
        "history = model.fit_generator(datagen.flow(X,Y, batch_size=batchSize),\n",
        "                              epochs = Epochs, validation_data = (X_test,Y_test),\n",
        "                              verbose = 1, steps_per_epoch=X.shape[0] // batchSize)\n",
        "                              #, callbacks=[annealer])"
      ],
      "execution_count": 24,
      "outputs": [
        {
          "output_type": "stream",
          "text": [
            "Epoch 1/45\n",
            "157/157 [==============================] - 2s 13ms/step - loss: 0.5394 - acc: 0.7325 - val_loss: 0.5393 - val_acc: 0.7214\n",
            "Epoch 2/45\n",
            "157/157 [==============================] - 2s 12ms/step - loss: 0.5297 - acc: 0.7412 - val_loss: 0.4939 - val_acc: 0.7714\n",
            "Epoch 3/45\n",
            "157/157 [==============================] - 2s 13ms/step - loss: 0.5124 - acc: 0.7635 - val_loss: 0.5603 - val_acc: 0.7286\n",
            "Epoch 4/45\n",
            "157/157 [==============================] - 2s 13ms/step - loss: 0.5306 - acc: 0.7174 - val_loss: 1.1654 - val_acc: 0.5429\n",
            "Epoch 5/45\n",
            "157/157 [==============================] - 2s 13ms/step - loss: 0.5297 - acc: 0.7301 - val_loss: 0.5413 - val_acc: 0.7000\n",
            "Epoch 6/45\n",
            "157/157 [==============================] - 2s 13ms/step - loss: 0.5071 - acc: 0.7603 - val_loss: 0.9351 - val_acc: 0.5929\n",
            "Epoch 7/45\n",
            "157/157 [==============================] - 2s 13ms/step - loss: 0.5420 - acc: 0.7444 - val_loss: 0.4783 - val_acc: 0.7571\n",
            "Epoch 8/45\n",
            "157/157 [==============================] - 2s 13ms/step - loss: 0.5068 - acc: 0.7444 - val_loss: 0.5259 - val_acc: 0.7357\n",
            "Epoch 9/45\n",
            "157/157 [==============================] - 2s 13ms/step - loss: 0.5102 - acc: 0.7588 - val_loss: 0.6178 - val_acc: 0.7286\n",
            "Epoch 10/45\n",
            "157/157 [==============================] - 2s 13ms/step - loss: 0.5129 - acc: 0.7532 - val_loss: 0.4760 - val_acc: 0.7857\n",
            "Epoch 11/45\n",
            "157/157 [==============================] - 2s 13ms/step - loss: 0.4984 - acc: 0.7627 - val_loss: 0.5150 - val_acc: 0.7500\n",
            "Epoch 12/45\n",
            "157/157 [==============================] - 2s 13ms/step - loss: 0.5141 - acc: 0.7444 - val_loss: 0.5023 - val_acc: 0.7857\n",
            "Epoch 13/45\n",
            "157/157 [==============================] - 2s 13ms/step - loss: 0.5029 - acc: 0.7588 - val_loss: 0.4941 - val_acc: 0.7643\n",
            "Epoch 14/45\n",
            "157/157 [==============================] - 2s 13ms/step - loss: 0.5051 - acc: 0.7508 - val_loss: 0.4919 - val_acc: 0.7214\n",
            "Epoch 15/45\n",
            "157/157 [==============================] - 2s 13ms/step - loss: 0.5066 - acc: 0.7596 - val_loss: 0.5591 - val_acc: 0.7286\n",
            "Epoch 16/45\n",
            "157/157 [==============================] - 2s 13ms/step - loss: 0.4815 - acc: 0.7707 - val_loss: 0.5459 - val_acc: 0.7357\n",
            "Epoch 17/45\n",
            "157/157 [==============================] - 2s 13ms/step - loss: 0.4893 - acc: 0.7524 - val_loss: 0.4863 - val_acc: 0.7357\n",
            "Epoch 18/45\n",
            "157/157 [==============================] - 2s 13ms/step - loss: 0.4799 - acc: 0.7683 - val_loss: 0.5228 - val_acc: 0.7786\n",
            "Epoch 19/45\n",
            "157/157 [==============================] - 2s 13ms/step - loss: 0.5157 - acc: 0.7492 - val_loss: 0.5234 - val_acc: 0.6786\n",
            "Epoch 20/45\n",
            "157/157 [==============================] - 2s 13ms/step - loss: 0.4895 - acc: 0.7699 - val_loss: 0.4775 - val_acc: 0.7500\n",
            "Epoch 21/45\n",
            "157/157 [==============================] - 2s 13ms/step - loss: 0.4899 - acc: 0.7723 - val_loss: 0.4905 - val_acc: 0.7714\n",
            "Epoch 22/45\n",
            "157/157 [==============================] - 2s 13ms/step - loss: 0.5116 - acc: 0.7516 - val_loss: 0.5868 - val_acc: 0.7214\n",
            "Epoch 23/45\n",
            "157/157 [==============================] - 2s 13ms/step - loss: 0.4774 - acc: 0.7811 - val_loss: 0.6030 - val_acc: 0.7071\n",
            "Epoch 24/45\n",
            "157/157 [==============================] - 2s 13ms/step - loss: 0.4840 - acc: 0.7691 - val_loss: 0.4594 - val_acc: 0.7571\n",
            "Epoch 25/45\n",
            "157/157 [==============================] - 2s 13ms/step - loss: 0.4770 - acc: 0.7675 - val_loss: 0.4801 - val_acc: 0.7429\n",
            "Epoch 26/45\n",
            "157/157 [==============================] - 2s 13ms/step - loss: 0.4993 - acc: 0.7548 - val_loss: 0.4669 - val_acc: 0.8000\n",
            "Epoch 27/45\n",
            "157/157 [==============================] - 2s 13ms/step - loss: 0.4773 - acc: 0.7707 - val_loss: 0.4297 - val_acc: 0.8000\n",
            "Epoch 28/45\n",
            "157/157 [==============================] - 2s 13ms/step - loss: 0.5045 - acc: 0.7667 - val_loss: 0.4754 - val_acc: 0.7929\n",
            "Epoch 29/45\n",
            "157/157 [==============================] - 2s 13ms/step - loss: 0.4758 - acc: 0.7667 - val_loss: 0.4650 - val_acc: 0.7643\n",
            "Epoch 30/45\n",
            "157/157 [==============================] - 2s 13ms/step - loss: 0.4996 - acc: 0.7611 - val_loss: 0.4761 - val_acc: 0.7786\n",
            "Epoch 31/45\n",
            "157/157 [==============================] - 2s 13ms/step - loss: 0.4554 - acc: 0.7874 - val_loss: 0.4690 - val_acc: 0.7357\n",
            "Epoch 32/45\n",
            "157/157 [==============================] - 2s 13ms/step - loss: 0.4513 - acc: 0.7938 - val_loss: 0.6492 - val_acc: 0.7214\n",
            "Epoch 33/45\n",
            "157/157 [==============================] - 2s 13ms/step - loss: 0.4848 - acc: 0.7691 - val_loss: 0.4637 - val_acc: 0.7857\n",
            "Epoch 34/45\n",
            "157/157 [==============================] - 2s 13ms/step - loss: 0.4745 - acc: 0.7707 - val_loss: 0.5868 - val_acc: 0.7643\n",
            "Epoch 35/45\n",
            "157/157 [==============================] - 2s 13ms/step - loss: 0.4516 - acc: 0.7739 - val_loss: 0.4781 - val_acc: 0.7714\n",
            "Epoch 36/45\n",
            "157/157 [==============================] - 2s 13ms/step - loss: 0.4584 - acc: 0.7771 - val_loss: 0.5262 - val_acc: 0.7500\n",
            "Epoch 37/45\n",
            "157/157 [==============================] - 2s 13ms/step - loss: 0.4689 - acc: 0.7699 - val_loss: 0.4342 - val_acc: 0.8071\n",
            "Epoch 38/45\n",
            "157/157 [==============================] - 2s 13ms/step - loss: 0.4646 - acc: 0.7747 - val_loss: 0.4824 - val_acc: 0.7714\n",
            "Epoch 39/45\n",
            "157/157 [==============================] - 2s 13ms/step - loss: 0.4402 - acc: 0.8073 - val_loss: 0.4458 - val_acc: 0.8000\n",
            "Epoch 40/45\n",
            "157/157 [==============================] - 2s 13ms/step - loss: 0.4785 - acc: 0.7731 - val_loss: 0.5018 - val_acc: 0.7714\n",
            "Epoch 41/45\n",
            "157/157 [==============================] - 2s 13ms/step - loss: 0.4515 - acc: 0.7834 - val_loss: 0.5460 - val_acc: 0.7571\n",
            "Epoch 42/45\n",
            "157/157 [==============================] - 2s 13ms/step - loss: 0.4694 - acc: 0.7834 - val_loss: 0.6871 - val_acc: 0.6786\n",
            "Epoch 43/45\n",
            "157/157 [==============================] - 2s 13ms/step - loss: 0.4602 - acc: 0.7779 - val_loss: 0.4718 - val_acc: 0.7429\n",
            "Epoch 44/45\n",
            "157/157 [==============================] - 2s 13ms/step - loss: 0.4460 - acc: 0.7874 - val_loss: 0.6243 - val_acc: 0.7071\n",
            "Epoch 45/45\n",
            "157/157 [==============================] - 2s 13ms/step - loss: 0.4403 - acc: 0.7890 - val_loss: 0.4690 - val_acc: 0.7786\n"
          ],
          "name": "stdout"
        }
      ]
    },
    {
      "cell_type": "markdown",
      "metadata": {
        "id": "pF8tIDILzIQx",
        "colab_type": "text"
      },
      "source": [
        "## Training and Validation Performance"
      ]
    },
    {
      "cell_type": "code",
      "metadata": {
        "id": "66xE1X16zU4O",
        "colab_type": "code",
        "outputId": "758315f1-a8d0-4f35-c695-ee39efc02f58",
        "colab": {
          "base_uri": "https://localhost:8080/",
          "height": 51
        }
      },
      "source": [
        "valLoss, valAcc = model.evaluate(X_test, Y_test, verbose=0)\n",
        "trainLoss, trainAcc = model.evaluate(X, Y, verbose=0)\n",
        "print(\"Validation Loss: {0:.6f}, Validation Accuracy: {1:.6f}\".format(valLoss, valAcc))\n",
        "print(\"Train Loss: {0:.6f}, Train Accuracy: {1:.6f}\".format(trainLoss, trainAcc))"
      ],
      "execution_count": 25,
      "outputs": [
        {
          "output_type": "stream",
          "text": [
            "Validation Loss: 0.469004, Validation Accuracy: 0.778571\n",
            "Train Loss: 0.326676, Train Accuracy: 0.857937\n"
          ],
          "name": "stdout"
        }
      ]
    },
    {
      "cell_type": "markdown",
      "metadata": {
        "id": "VbDW34Z3zsH-",
        "colab_type": "text"
      },
      "source": [
        ""
      ]
    },
    {
      "cell_type": "code",
      "metadata": {
        "id": "902sfxj0zspA",
        "colab_type": "code",
        "outputId": "be207b06-4ca0-48eb-9ad6-6cd694a2b593",
        "colab": {
          "base_uri": "https://localhost:8080/",
          "height": 521
        }
      },
      "source": [
        "import seaborn as sns\n",
        "sns.set_style(\"darkgrid\")\n",
        "plt.plot(history.history['loss'], label = \"Training Loss\")\n",
        "plt.plot(history.history['val_loss'], label = \"Validation Loss\")\n",
        "plt.legend()\n",
        "plt.show()\n",
        "plt.plot(history.history['acc'],label = \"Training Accuracy\")\n",
        "plt.plot(history.history['val_acc'], label = \"Validation Accuracy\")\n",
        "plt.legend()\n",
        "plt.show()"
      ],
      "execution_count": 26,
      "outputs": [
        {
          "output_type": "display_data",
          "data": {
            "image/png": "[encoded data removed]",
            "text/plain": [
              "<Figure size 432x288 with 1 Axes>"
            ]
          },
          "metadata": {
            "tags": []
          }
        },
        {
          "output_type": "display_data",
          "data": {
            "image/png": "[encoded data removed]",
            "text/plain": [
              "<Figure size 432x288 with 1 Axes>"
            ]
          },
          "metadata": {
            "tags": []
          }
        }
      ]
    },
    {
      "cell_type": "markdown",
      "metadata": {
        "id": "2AH4znXC2F2M",
        "colab_type": "text"
      },
      "source": [
        "## Confusion Matrix"
      ]
    },
    {
      "cell_type": "code",
      "metadata": {
        "id": "INsSf0rF2CTf",
        "colab_type": "code",
        "outputId": "86115a23-2de9-42a4-e5e2-672f1e52badb",
        "colab": {
          "base_uri": "https://localhost:8080/",
          "height": 527
        }
      },
      "source": [
        "from keras.utils.np_utils import to_categorical\n",
        "from sklearn.metrics import confusion_matrix\n",
        "pred = model.predict(X_test) # Predict values of the test set\n",
        "testLoss, testAcc = model.evaluate(X_test, Y_test, verbose=0)\n",
        "pred1hot = np.argmax(pred, axis=1) # Convert predicted classes to one hot vectors\n",
        "y_test = to_categorical(Y_test, num_classes = classNum) \n",
        "y_test1hot = np.argmax(Y_test, axis=1) # Convert true classes to one hot vectors\n",
        "cm = confusion_matrix(y_test1hot, pred1hot) #confusion matrix\n",
        "#print(cm)\n",
        "plt.figure(figsize=(9,9))\n",
        "sns.heatmap(cm, annot=True, fmt=\".3f\", linewidths=.5, square = True, cmap = 'Blues_r');\n",
        "plt.ylabel('Actual label');\n",
        "plt.xlabel('Predicted label');\n",
        "\n",
        "\n",
        "testLoss, testAcc = model.evaluate(X_test, Y_test, verbose=0)\n",
        "\n",
        "all_sample_title = 'Accuracy Score: {0}'.format(testAcc)\n",
        "plt.title(all_sample_title, size = 15);"
      ],
      "execution_count": 27,
      "outputs": [
        {
          "output_type": "display_data",
          "data": {
            "image/png": "[encoded data removed]",
            "text/plain": [
              "<Figure size 648x648 with 2 Axes>"
            ]
          },
          "metadata": {
            "tags": []
          }
        }
      ]
    },
    {
      "cell_type": "markdown",
      "metadata": {
        "id": "Ldh3lOlnB7UN",
        "colab_type": "text"
      },
      "source": [
        "## Saving the model"
      ]
    },
    {
      "cell_type": "code",
      "metadata": {
        "id": "_89eRQRfCcnE",
        "colab_type": "code",
        "colab": {
          "base_uri": "https://localhost:8080/",
          "height": 34
        },
        "outputId": "54c46a29-ecde-4266-e333-4f0845a28b03"
      },
      "source": [
        "# serialize model to JSON\n",
        "model_json = model.to_json()\n",
        "with open(\"model.json\", \"w\") as json_file:\n",
        "    json_file.write(model_json)\n",
        "# serialize weights to HDF5\n",
        "model.save_weights(\"model.h5\")\n",
        "print(\"Saved model to disk\")"
      ],
      "execution_count": 28,
      "outputs": [
        {
          "output_type": "stream",
          "text": [
            "Saved model to disk\n"
          ],
          "name": "stdout"
        }
      ]
    },
    {
      "cell_type": "markdown",
      "metadata": {
        "id": "IBUGWZtqCpu8",
        "colab_type": "text"
      },
      "source": [
        "## Let's Try!"
      ]
    },
    {
      "cell_type": "code",
      "metadata": {
        "id": "etsQ8QTMCywH",
        "colab_type": "code",
        "colab": {
          "base_uri": "https://localhost:8080/",
          "height": 255
        },
        "outputId": "aae58da7-110f-4595-b19e-070b34078348"
      },
      "source": [
        "!wget https://img-s2.onedio.com/id-553a2f679b938449229cee67/rev-0/raw/s-50cdc6132cfa31fb3a0a43263997af4e2fb0c8b5.jpg -O test_img.jpg\n",
        "!ls\n",
        "\n",
        "from skimage.io import imread\n",
        "from skimage.transform import resize\n",
        "from io import StringIO\n",
        "# TODO: Görüntüyü okuyalım:\n",
        "# TODO: Görüntüyü yeniden boyutlandıralım:\n",
        "# TODO: Görüntüyü Numpy Array haline getirip batch axis ekleyelim.\n",
        "img_size = 64\n",
        "img = imread(\"test_img.jpg\")\n",
        "img = resize(img, (img_size, img_size, 3))\n",
        "X = np.zeros((1, 64, 64, 3), dtype='float64')\n",
        "X[0] = img\n",
        "# TODO: Görüntüyü ekranda gösterelim:\n",
        "#plt.imshow(img, interpolation='nearest')\n",
        "#plt.axis(\"off\")\n",
        "\n",
        "#plt.show()\n",
        "# Model çıktısını alalım:\n",
        "Y_test_img = model.predict(X)\n",
        "print('Olasılıklar:', Y_test_img[0])\n",
        "Y_test_img = np.argmax(Y_test_img, axis=1)\n",
        "Y_test_img = 'cat' if Y_test_img[0] == 0 else 'dog'\n",
        "print('It is a '+ Y_test_img + ' !')"
      ],
      "execution_count": 36,
      "outputs": [
        {
          "output_type": "stream",
          "text": [
            "--2019-06-19 04:55:35--  https://img-s2.onedio.com/id-553a2f679b938449229cee67/rev-0/raw/s-50cdc6132cfa31fb3a0a43263997af4e2fb0c8b5.jpg\n",
            "Resolving img-s2.onedio.com (img-s2.onedio.com)... 104.16.229.51, 104.16.228.51, 2606:4700::6810:e533, ...\n",
            "Connecting to img-s2.onedio.com (img-s2.onedio.com)|104.16.229.51|:443... connected.\n",
            "HTTP request sent, awaiting response... 200 OK\n",
            "Length: 30196 (29K) [image/jpeg]\n",
            "Saving to: ‘test_img.jpg’\n",
            "\n",
            "\rtest_img.jpg          0%[                    ]       0  --.-KB/s               \rtest_img.jpg        100%[===================>]  29.49K  --.-KB/s    in 0s      \n",
            "\n",
            "2019-06-19 04:55:35 (92.2 MB/s) - ‘test_img.jpg’ saved [30196/30196]\n",
            "\n",
            "model.h5  model.json  sample_data  test_img.jpg  X.npy\tY.npy\n",
            "Olasılıklar: [0.35671487 0.64328516]\n",
            "It is a dog !\n"
          ],
          "name": "stdout"
        }
      ]
    }
  ]
}