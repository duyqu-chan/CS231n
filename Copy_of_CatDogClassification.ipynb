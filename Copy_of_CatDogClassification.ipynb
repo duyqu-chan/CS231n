{
  "nbformat": 4,
  "nbformat_minor": 0,
  "metadata": {
    "colab": {
      "name": "Copy of CatDogClassification.ipynb",
      "version": "0.3.2",
      "provenance": [],
      "collapsed_sections": [],
      "include_colab_link": true
    },
    "kernelspec": {
      "name": "python3",
      "display_name": "Python 3"
    },
    "accelerator": "GPU"
  },
  "cells": [
    {
      "cell_type": "markdown",
      "metadata": {
        "id": "view-in-github",
        "colab_type": "text"
      },
      "source": [
        "<a href=\"https://colab.research.google.com/github/duyqu-chan/CS231n/blob/development/Copy_of_CatDogClassification.ipynb\" target=\"_parent\"><img src=\"https://colab.research.google.com/assets/colab-badge.svg\" alt=\"Open In Colab\"/></a>"
      ]
    },
    {
      "cell_type": "markdown",
      "metadata": {
        "id": "FL8pkMW3tq35",
        "colab_type": "text"
      },
      "source": [
        "# Cat-Dog Classification Homework\n"
      ]
    },
    {
      "cell_type": "markdown",
      "metadata": {
        "id": "eDB_1kvi8XJP",
        "colab_type": "text"
      },
      "source": [
        "### Yapilacaklar\n",
        "\n",
        "+ imaj datasetini cek\n",
        "+ goruntu-etiket ilişkisini csv dosyasından olustur\n",
        "+ imajı numpy arraye cevir\n",
        "+ labellar icin one-hot encoding\n",
        "+ tensorboard da sonuclari gorsellestirme ve basma\n",
        "+train val test \n"
      ]
    },
    {
      "cell_type": "markdown",
      "metadata": {
        "id": "ExOdh1VQ4TS1",
        "colab_type": "text"
      },
      "source": [
        "First, we will get the raw data from a GitHub[ repo](https://github.com/ardamavi/Dog-Cat-Classifier/tree/master/Data/npy_train_data)."
      ]
    },
    {
      "cell_type": "code",
      "metadata": {
        "id": "tDFFDQQk4PpQ",
        "colab_type": "code",
        "outputId": "cd30403e-3cae-464e-b70f-2d5b21ae2fd3",
        "colab": {
          "base_uri": "https://localhost:8080/",
          "height": 697
        }
      },
      "source": [
        "# X:\n",
        "! wget https://github.com/ardamavi/Dog-Cat-Classifier/blob/master/Data/npy_train_data/X.npy?raw=true -O X.npy\n",
        "  \n",
        "# Y:\n",
        "! wget https://github.com/ardamavi/Dog-Cat-Classifier/blob/master/Data/npy_train_data/Y.npy?raw=true -O Y.npy"
      ],
      "execution_count": 1,
      "outputs": [
        {
          "output_type": "stream",
          "text": [
            "--2019-06-13 13:27:29--  https://github.com/ardamavi/Dog-Cat-Classifier/blob/master/Data/npy_train_data/X.npy?raw=true\n",
            "Resolving github.com (github.com)... 192.30.253.112\n",
            "Connecting to github.com (github.com)|192.30.253.112|:443... connected.\n",
            "HTTP request sent, awaiting response... 302 Found\n",
            "Location: https://github.com/ardamavi/Dog-Cat-Classifier/raw/master/Data/npy_train_data/X.npy [following]\n",
            "--2019-06-13 13:27:29--  https://github.com/ardamavi/Dog-Cat-Classifier/raw/master/Data/npy_train_data/X.npy\n",
            "Reusing existing connection to github.com:443.\n",
            "HTTP request sent, awaiting response... 302 Found\n",
            "Location: https://media.githubusercontent.com/media/ardamavi/Dog-Cat-Classifier/master/Data/npy_train_data/X.npy [following]\n",
            "--2019-06-13 13:27:29--  https://media.githubusercontent.com/media/ardamavi/Dog-Cat-Classifier/master/Data/npy_train_data/X.npy\n",
            "Resolving media.githubusercontent.com (media.githubusercontent.com)... 151.101.0.133, 151.101.64.133, 151.101.128.133, ...\n",
            "Connecting to media.githubusercontent.com (media.githubusercontent.com)|151.101.0.133|:443... connected.\n",
            "HTTP request sent, awaiting response... 200 OK\n",
            "Length: 137625696 (131M) [application/octet-stream]\n",
            "Saving to: ‘X.npy’\n",
            "\n",
            "X.npy               100%[===================>] 131.25M   191MB/s    in 0.7s    \n",
            "\n",
            "2019-06-13 13:27:31 (191 MB/s) - ‘X.npy’ saved [137625696/137625696]\n",
            "\n",
            "--2019-06-13 13:27:33--  https://github.com/ardamavi/Dog-Cat-Classifier/blob/master/Data/npy_train_data/Y.npy?raw=true\n",
            "Resolving github.com (github.com)... 192.30.253.112\n",
            "Connecting to github.com (github.com)|192.30.253.112|:443... connected.\n",
            "HTTP request sent, awaiting response... 302 Found\n",
            "Location: https://github.com/ardamavi/Dog-Cat-Classifier/raw/master/Data/npy_train_data/Y.npy [following]\n",
            "--2019-06-13 13:27:33--  https://github.com/ardamavi/Dog-Cat-Classifier/raw/master/Data/npy_train_data/Y.npy\n",
            "Reusing existing connection to github.com:443.\n",
            "HTTP request sent, awaiting response... 302 Found\n",
            "Location: https://media.githubusercontent.com/media/ardamavi/Dog-Cat-Classifier/master/Data/npy_train_data/Y.npy [following]\n",
            "--2019-06-13 13:27:33--  https://media.githubusercontent.com/media/ardamavi/Dog-Cat-Classifier/master/Data/npy_train_data/Y.npy\n",
            "Resolving media.githubusercontent.com (media.githubusercontent.com)... 151.101.0.133, 151.101.64.133, 151.101.128.133, ...\n",
            "Connecting to media.githubusercontent.com (media.githubusercontent.com)|151.101.0.133|:443... connected.\n",
            "HTTP request sent, awaiting response... 200 OK\n",
            "Length: 22480 (22K) [application/octet-stream]\n",
            "Saving to: ‘Y.npy’\n",
            "\n",
            "Y.npy               100%[===================>]  21.95K  --.-KB/s    in 0.01s   \n",
            "\n",
            "2019-06-13 13:27:33 (2.09 MB/s) - ‘Y.npy’ saved [22480/22480]\n",
            "\n"
          ],
          "name": "stdout"
        }
      ]
    },
    {
      "cell_type": "markdown",
      "metadata": {
        "id": "JEdL_rkw4qb2",
        "colab_type": "text"
      },
      "source": [
        "Now, we have the following files:"
      ]
    },
    {
      "cell_type": "code",
      "metadata": {
        "id": "MiCbbjQM6MpB",
        "colab_type": "code",
        "outputId": "055e718e-c2e7-4327-b701-e2de93440339",
        "colab": {
          "base_uri": "https://localhost:8080/",
          "height": 34
        }
      },
      "source": [
        "!ls"
      ],
      "execution_count": 2,
      "outputs": [
        {
          "output_type": "stream",
          "text": [
            "sample_data  X.npy  Y.npy\n"
          ],
          "name": "stdout"
        }
      ]
    },
    {
      "cell_type": "markdown",
      "metadata": {
        "id": "gd4IXMVG5bdg",
        "colab_type": "text"
      },
      "source": [
        "We can read the data as follows:"
      ]
    },
    {
      "cell_type": "code",
      "metadata": {
        "id": "8WMayKBA6Vsu",
        "colab_type": "code",
        "colab": {}
      },
      "source": [
        "import numpy as np\n",
        "\n",
        "X = np.load('X.npy')\n",
        "Y = np.load('Y.npy')"
      ],
      "execution_count": 0,
      "outputs": []
    },
    {
      "cell_type": "markdown",
      "metadata": {
        "id": "1N9MokgSf2qY",
        "colab_type": "text"
      },
      "source": [
        "## About the Dataset"
      ]
    },
    {
      "cell_type": "markdown",
      "metadata": {
        "id": "Fq3ozCBy60Bj",
        "colab_type": "text"
      },
      "source": [
        "There are 1400 images belonging to two classes (cat or dog). The resolution is 64x64 and there are 3 color channels for red, green and blue."
      ]
    },
    {
      "cell_type": "code",
      "metadata": {
        "id": "Bp-dip5G5xZi",
        "colab_type": "code",
        "outputId": "2a3d09df-63a6-44dc-d412-8758b25d4403",
        "colab": {
          "base_uri": "https://localhost:8080/",
          "height": 51
        }
      },
      "source": [
        "print('X Shape:', X.shape)\n",
        "print('Y Shape:', Y.shape)"
      ],
      "execution_count": 4,
      "outputs": [
        {
          "output_type": "stream",
          "text": [
            "X Shape: (1400, 64, 64, 3)\n",
            "Y Shape: (1400, 2)\n"
          ],
          "name": "stdout"
        }
      ]
    },
    {
      "cell_type": "markdown",
      "metadata": {
        "id": "B0NLBVZei7xG",
        "colab_type": "text"
      },
      "source": [
        "Hopefully, we have uniform categorical distribution."
      ]
    },
    {
      "cell_type": "code",
      "metadata": {
        "id": "io_jQ4DhimEA",
        "colab_type": "code",
        "outputId": "e8a20632-c273-42fc-9815-4b2f52bc7380",
        "colab": {
          "base_uri": "https://localhost:8080/",
          "height": 286
        }
      },
      "source": [
        "import seaborn as sns\n",
        "category = Y[:,0]\n",
        "sns.countplot(category)"
      ],
      "execution_count": 5,
      "outputs": [
        {
          "output_type": "execute_result",
          "data": {
            "text/plain": [
              "<matplotlib.axes._subplots.AxesSubplot at 0x7f624bf29390>"
            ]
          },
          "metadata": {
            "tags": []
          },
          "execution_count": 5
        },
        {
          "output_type": "display_data",
          "data": {
            "image/png": "[encoded data removed]",
            "text/plain": [
              "<Figure size 432x288 with 1 Axes>"
            ]
          },
          "metadata": {
            "tags": []
          }
        }
      ]
    },
    {
      "cell_type": "markdown",
      "metadata": {
        "id": "Onp5GbVPTCZ3",
        "colab_type": "text"
      },
      "source": [
        "Let's visualize 76th sample."
      ]
    },
    {
      "cell_type": "code",
      "metadata": {
        "id": "v1vfZaPaUrna",
        "colab_type": "code",
        "outputId": "ef19087c-6735-43e7-d721-c899f8ab7c91",
        "colab": {
          "base_uri": "https://localhost:8080/",
          "height": 281
        }
      },
      "source": [
        "import matplotlib\n",
        "import matplotlib.pyplot as plt\n",
        "\n",
        "sample_index = 76\n",
        "%matplotlib inline\n",
        "img = X[sample_index]/255 #normalize the image vector into 0-255 range\n",
        "labelArr = Y[sample_index]\n",
        "\n",
        "#decode label\n",
        "if (labelArr == [1, 0]).all():\n",
        "  label = \"cat\"\n",
        "else:\n",
        "  label = \"dog\"\n",
        "  \n",
        "plt.imshow(img, interpolation='nearest')\n",
        "plt.axis(\"off\")\n",
        "plt.title(label)\n",
        "plt.show()"
      ],
      "execution_count": 6,
      "outputs": [
        {
          "output_type": "display_data",
          "data": {
            "image/png": "[encoded data removed]",
            "text/plain": [
              "<Figure size 432x288 with 1 Axes>"
            ]
          },
          "metadata": {
            "tags": []
          }
        }
      ]
    },
    {
      "cell_type": "markdown",
      "metadata": {
        "id": "6Mo4KYqAtjQb",
        "colab_type": "text"
      },
      "source": [
        "## Pre-processing\n",
        "\n",
        "Normalization"
      ]
    },
    {
      "cell_type": "code",
      "metadata": {
        "id": "-Sy3vDTbtZR5",
        "colab_type": "code",
        "colab": {}
      },
      "source": [
        "X /= 255."
      ],
      "execution_count": 0,
      "outputs": []
    },
    {
      "cell_type": "markdown",
      "metadata": {
        "id": "cmlCbRpfdt6B",
        "colab_type": "text"
      },
      "source": [
        "## Train/Test Split\n",
        "\n",
        "We reserved 90% of the data for training and 10% for validation. To better represent test data with training data stratified sampling is used."
      ]
    },
    {
      "cell_type": "code",
      "metadata": {
        "id": "u1oF5GrnYt1w",
        "colab_type": "code",
        "colab": {}
      },
      "source": [
        "from sklearn.model_selection import train_test_split\n",
        "\n",
        "X, X_test, Y, Y_test = train_test_split(X,Y,test_size = 0.1,stratify=Y, random_state = 42) #random seed i sabitle"
      ],
      "execution_count": 0,
      "outputs": []
    },
    {
      "cell_type": "markdown",
      "metadata": {
        "id": "ogb2zjwnfVIV",
        "colab_type": "text"
      },
      "source": [
        "## Building the Model"
      ]
    },
    {
      "cell_type": "code",
      "metadata": {
        "id": "vtZqcBvJl2mP",
        "colab_type": "code",
        "colab": {}
      },
      "source": [
        "# parameters to be optimized\n",
        "inputShape = (64, 64, 3)\n",
        "classNum = Y.shape[1]\n",
        "k1 = 5 # Kernel dimension of the 1st layer\n",
        "f1 = 32 # the number of output filters in the 1st layer\n",
        "k2 = 3 # Kernel dimension of the 2nd layer\n",
        "f2 = 64 # the number of output filters in the 2nd layer\n",
        "k3 = 3 # Kernel dimension of the 3rd layer\n",
        "f3 = 128 # the number of output filters in the 3rd layer\n",
        "k4 = 3 # Kernel dimension of the 4th layer\n",
        "f4 = 64 # the number of output filters in the 4th layer\n",
        "d_conv = 0.5 # dropout rate of the convolutional layers\n",
        "d_dense = 0.5 # dropout rate of the dense layer\n",
        "DR = 0.01 # decay rate of the optimizer\n",
        "Epochs = 45 # \n",
        "batchSize = 8 # number of randomly taken samples from features and labels to feed into each epoch until an epoch limit is reached."
      ],
      "execution_count": 0,
      "outputs": []
    },
    {
      "cell_type": "code",
      "metadata": {
        "id": "JwXLITZkXiS9",
        "colab_type": "code",
        "outputId": "5182fedf-d370-447d-fcc9-7229e6d041c7",
        "colab": {
          "base_uri": "https://localhost:8080/",
          "height": 646
        }
      },
      "source": [
        "import keras\n",
        "from keras.models import Sequential\n",
        "from keras.layers import Dense, Dropout, Flatten,  BatchNormalization, Conv2D, MaxPooling2D, Activation\n",
        "from keras import backend as K\n",
        "from keras.callbacks import LearningRateScheduler\n",
        "\n",
        "model = Sequential()\n",
        "\n",
        "model.add(Conv2D(filters=f1,kernel_size=(k1,k1),padding='Same',kernel_initializer=\"TruncatedNormal\", \n",
        "                 input_shape = inputShape))\n",
        "model.add(BatchNormalization())\n",
        "model.add(Activation('relu'))\n",
        "model.add(MaxPooling2D(pool_size=(2,2)))\n",
        "#model.add(Dropout(d_conv))\n",
        "\n",
        "\n",
        "model.add(Conv2D(filters=f2,kernel_size=(k2,k2),padding='Same',kernel_initializer=\"TruncatedNormal\"))\n",
        "model.add(BatchNormalization())\n",
        "model.add(Activation('relu'))\n",
        "#model.add(MaxPooling2D(pool_size=(2,2)))\n",
        "#model.add(Dropout(d_conv))\n",
        "\n",
        "\n",
        "\n",
        "model.add(Conv2D(filters = f3, kernel_size = (k3,k3),padding = 'Same'))\n",
        "model.add(BatchNormalization())\n",
        "model.add(Activation('relu'))\n",
        "model.add(MaxPooling2D(pool_size=(2,2)))\n",
        "#model.add(Dropout(d_conv))\n",
        " \n",
        "\n",
        "\n",
        "model.add(Flatten())\n",
        "model.add(Dense(64, activation = \"relu\"))\n",
        "model.add(Dropout(d_dense))\n",
        "model.add(Dense(classNum, activation = \"softmax\"))\n",
        "\n",
        "model.summary()"
      ],
      "execution_count": 29,
      "outputs": [
        {
          "output_type": "stream",
          "text": [
            "_________________________________________________________________\n",
            "Layer (type)                 Output Shape              Param #   \n",
            "=================================================================\n",
            "conv2d_7 (Conv2D)            (None, 64, 64, 32)        2432      \n",
            "_________________________________________________________________\n",
            "batch_normalization_7 (Batch (None, 64, 64, 32)        128       \n",
            "_________________________________________________________________\n",
            "activation_7 (Activation)    (None, 64, 64, 32)        0         \n",
            "_________________________________________________________________\n",
            "max_pooling2d_7 (MaxPooling2 (None, 32, 32, 32)        0         \n",
            "_________________________________________________________________\n",
            "conv2d_8 (Conv2D)            (None, 32, 32, 64)        18496     \n",
            "_________________________________________________________________\n",
            "batch_normalization_8 (Batch (None, 32, 32, 64)        256       \n",
            "_________________________________________________________________\n",
            "activation_8 (Activation)    (None, 32, 32, 64)        0         \n",
            "_________________________________________________________________\n",
            "conv2d_9 (Conv2D)            (None, 32, 32, 128)       73856     \n",
            "_________________________________________________________________\n",
            "batch_normalization_9 (Batch (None, 32, 32, 128)       512       \n",
            "_________________________________________________________________\n",
            "activation_9 (Activation)    (None, 32, 32, 128)       0         \n",
            "_________________________________________________________________\n",
            "max_pooling2d_8 (MaxPooling2 (None, 16, 16, 128)       0         \n",
            "_________________________________________________________________\n",
            "flatten_3 (Flatten)          (None, 32768)             0         \n",
            "_________________________________________________________________\n",
            "dense_5 (Dense)              (None, 64)                2097216   \n",
            "_________________________________________________________________\n",
            "dropout_3 (Dropout)          (None, 64)                0         \n",
            "_________________________________________________________________\n",
            "dense_6 (Dense)              (None, 2)                 130       \n",
            "=================================================================\n",
            "Total params: 2,193,026\n",
            "Trainable params: 2,192,578\n",
            "Non-trainable params: 448\n",
            "_________________________________________________________________\n"
          ],
          "name": "stdout"
        }
      ]
    },
    {
      "cell_type": "markdown",
      "metadata": {
        "id": "WeZBTBmVvEvc",
        "colab_type": "text"
      },
      "source": [
        "## Compilation"
      ]
    },
    {
      "cell_type": "code",
      "metadata": {
        "id": "2g3YdAi5ucpQ",
        "colab_type": "code",
        "colab": {}
      },
      "source": [
        "model.compile(loss=keras.losses.categorical_crossentropy,\n",
        "              optimizer=keras.optimizers.Adam(), #instead of annealer decay = DR can be set, too\n",
        "              metrics=['accuracy'])\n",
        "annealer = LearningRateScheduler(lambda x: 1e-3 * 0.9 ** x)"
      ],
      "execution_count": 0,
      "outputs": []
    },
    {
      "cell_type": "markdown",
      "metadata": {
        "id": "bwAp9UOLwa3R",
        "colab_type": "text"
      },
      "source": [
        "## Data Augmentation"
      ]
    },
    {
      "cell_type": "code",
      "metadata": {
        "id": "Dn-rZ4OowaFQ",
        "colab_type": "code",
        "colab": {}
      },
      "source": [
        "from keras.preprocessing.image import ImageDataGenerator\n",
        "datagen = ImageDataGenerator(\n",
        "        rotation_range=0,  # randomly rotate images in the range (degrees, 0 to 180)\n",
        "        zoom_range = 0.2, # Randomly zoom image \n",
        "        width_shift_range=0.2,  # randomly shift images horizontally (fraction of total width)\n",
        "        height_shift_range=0.2,  # randomly shift images vertically (fraction of total height)\n",
        "        horizontal_flip=True,  # randomly flip images\n",
        "        vertical_flip=False)  # randomly flip images\n",
        "\n",
        "\n",
        "datagen.fit(X)"
      ],
      "execution_count": 0,
      "outputs": []
    },
    {
      "cell_type": "markdown",
      "metadata": {
        "id": "p2O9dypAyesy",
        "colab_type": "text"
      },
      "source": [
        "## Training"
      ]
    },
    {
      "cell_type": "code",
      "metadata": {
        "id": "ci3xe8L5yeMi",
        "colab_type": "code",
        "outputId": "3155d14b-6037-4c2d-e28d-aafeff5a0de5",
        "colab": {
          "base_uri": "https://localhost:8080/",
          "height": 1547
        }
      },
      "source": [
        "# Fit the model\n",
        "history = model.fit_generator(datagen.flow(X,Y, batch_size=batchSize),\n",
        "                              epochs = Epochs, validation_data = (X_test,Y_test),\n",
        "                              verbose = 1, steps_per_epoch=X.shape[0] // batchSize\n",
        "                              , callbacks=[annealer])"
      ],
      "execution_count": 35,
      "outputs": [
        {
          "output_type": "stream",
          "text": [
            "Epoch 1/45\n",
            "157/157 [==============================] - 2s 13ms/step - loss: 8.0590 - acc: 0.5000 - val_loss: 8.0590 - val_acc: 0.5000\n",
            "Epoch 2/45\n",
            "157/157 [==============================] - 2s 12ms/step - loss: 8.0462 - acc: 0.5008 - val_loss: 8.0590 - val_acc: 0.5000\n",
            "Epoch 3/45\n",
            "157/157 [==============================] - 2s 12ms/step - loss: 8.0461 - acc: 0.5008 - val_loss: 8.0590 - val_acc: 0.5000\n",
            "Epoch 4/45\n",
            "157/157 [==============================] - 2s 12ms/step - loss: 8.1359 - acc: 0.4952 - val_loss: 8.0590 - val_acc: 0.5000\n",
            "Epoch 5/45\n",
            "157/157 [==============================] - 2s 12ms/step - loss: 8.1231 - acc: 0.4960 - val_loss: 8.0590 - val_acc: 0.5000\n",
            "Epoch 6/45\n",
            "157/157 [==============================] - 2s 12ms/step - loss: 8.0975 - acc: 0.4976 - val_loss: 8.0590 - val_acc: 0.5000\n",
            "Epoch 7/45\n",
            "157/157 [==============================] - 2s 12ms/step - loss: 7.8795 - acc: 0.5111 - val_loss: 8.0590 - val_acc: 0.5000\n",
            "Epoch 8/45\n",
            "157/157 [==============================] - 2s 12ms/step - loss: 8.1231 - acc: 0.4960 - val_loss: 8.0590 - val_acc: 0.5000\n",
            "Epoch 9/45\n",
            "157/157 [==============================] - 2s 12ms/step - loss: 8.1872 - acc: 0.4920 - val_loss: 8.0590 - val_acc: 0.5000\n",
            "Epoch 10/45\n",
            "157/157 [==============================] - 2s 12ms/step - loss: 7.9950 - acc: 0.5040 - val_loss: 8.0590 - val_acc: 0.5000\n",
            "Epoch 11/45\n",
            "157/157 [==============================] - 2s 12ms/step - loss: 8.0077 - acc: 0.5032 - val_loss: 8.0590 - val_acc: 0.5000\n",
            "Epoch 12/45\n",
            "157/157 [==============================] - 2s 12ms/step - loss: 8.1103 - acc: 0.4968 - val_loss: 8.0590 - val_acc: 0.5000\n",
            "Epoch 13/45\n",
            "157/157 [==============================] - 2s 12ms/step - loss: 8.0847 - acc: 0.4984 - val_loss: 8.0590 - val_acc: 0.5000\n",
            "Epoch 14/45\n",
            "157/157 [==============================] - 2s 12ms/step - loss: 7.9820 - acc: 0.5048 - val_loss: 8.0590 - val_acc: 0.5000\n",
            "Epoch 15/45\n",
            "157/157 [==============================] - 2s 12ms/step - loss: 8.0462 - acc: 0.5008 - val_loss: 8.0590 - val_acc: 0.5000\n",
            "Epoch 16/45\n",
            "157/157 [==============================] - 2s 12ms/step - loss: 8.2003 - acc: 0.4912 - val_loss: 8.0590 - val_acc: 0.5000\n",
            "Epoch 17/45\n",
            "157/157 [==============================] - 2s 12ms/step - loss: 7.9052 - acc: 0.5095 - val_loss: 8.0590 - val_acc: 0.5000\n",
            "Epoch 18/45\n",
            "157/157 [==============================] - 2s 12ms/step - loss: 8.0461 - acc: 0.5008 - val_loss: 8.0590 - val_acc: 0.5000\n",
            "Epoch 19/45\n",
            "157/157 [==============================] - 2s 12ms/step - loss: 8.2131 - acc: 0.4904 - val_loss: 8.0590 - val_acc: 0.5000\n",
            "Epoch 20/45\n",
            "157/157 [==============================] - 2s 12ms/step - loss: 7.9563 - acc: 0.5064 - val_loss: 8.0590 - val_acc: 0.5000\n",
            "Epoch 21/45\n",
            "157/157 [==============================] - 2s 12ms/step - loss: 8.0076 - acc: 0.5032 - val_loss: 8.0590 - val_acc: 0.5000\n",
            "Epoch 22/45\n",
            "157/157 [==============================] - 2s 12ms/step - loss: 8.1489 - acc: 0.4944 - val_loss: 8.0590 - val_acc: 0.5000\n",
            "Epoch 23/45\n",
            "157/157 [==============================] - 2s 13ms/step - loss: 7.9180 - acc: 0.5088 - val_loss: 8.0590 - val_acc: 0.5000\n",
            "Epoch 24/45\n",
            "157/157 [==============================] - 2s 12ms/step - loss: 8.2002 - acc: 0.4912 - val_loss: 8.0590 - val_acc: 0.5000\n",
            "Epoch 25/45\n",
            "157/157 [==============================] - 2s 13ms/step - loss: 8.0719 - acc: 0.4992 - val_loss: 8.0590 - val_acc: 0.5000\n",
            "Epoch 26/45\n",
            "157/157 [==============================] - 2s 13ms/step - loss: 8.0974 - acc: 0.4976 - val_loss: 8.0590 - val_acc: 0.5000\n",
            "Epoch 27/45\n",
            "157/157 [==============================] - 2s 13ms/step - loss: 8.1103 - acc: 0.4968 - val_loss: 8.0590 - val_acc: 0.5000\n",
            "Epoch 28/45\n",
            "157/157 [==============================] - 2s 13ms/step - loss: 7.9435 - acc: 0.5072 - val_loss: 8.0590 - val_acc: 0.5000\n",
            "Epoch 29/45\n",
            "157/157 [==============================] - 2s 12ms/step - loss: 8.0847 - acc: 0.4984 - val_loss: 8.0590 - val_acc: 0.5000\n",
            "Epoch 30/45\n",
            "157/157 [==============================] - 2s 12ms/step - loss: 7.9565 - acc: 0.5064 - val_loss: 8.0590 - val_acc: 0.5000\n",
            "Epoch 31/45\n",
            "157/157 [==============================] - 2s 12ms/step - loss: 8.1232 - acc: 0.4960 - val_loss: 8.0590 - val_acc: 0.5000\n",
            "Epoch 32/45\n",
            "157/157 [==============================] - 2s 12ms/step - loss: 8.1616 - acc: 0.4936 - val_loss: 8.0590 - val_acc: 0.5000\n",
            "Epoch 33/45\n",
            "157/157 [==============================] - 2s 12ms/step - loss: 7.9180 - acc: 0.5088 - val_loss: 8.0590 - val_acc: 0.5000\n",
            "Epoch 34/45\n",
            "157/157 [==============================] - 2s 12ms/step - loss: 8.2001 - acc: 0.4912 - val_loss: 8.0590 - val_acc: 0.5000\n",
            "Epoch 35/45\n",
            "157/157 [==============================] - 2s 12ms/step - loss: 7.9691 - acc: 0.5056 - val_loss: 8.0590 - val_acc: 0.5000\n",
            "Epoch 36/45\n",
            "157/157 [==============================] - 2s 12ms/step - loss: 8.2259 - acc: 0.4896 - val_loss: 8.0590 - val_acc: 0.5000\n",
            "Epoch 37/45\n",
            "157/157 [==============================] - 2s 12ms/step - loss: 7.9692 - acc: 0.5056 - val_loss: 8.0590 - val_acc: 0.5000\n",
            "Epoch 38/45\n",
            "157/157 [==============================] - 2s 12ms/step - loss: 7.9691 - acc: 0.5056 - val_loss: 8.0590 - val_acc: 0.5000\n",
            "Epoch 39/45\n",
            "157/157 [==============================] - 2s 12ms/step - loss: 8.1490 - acc: 0.4944 - val_loss: 8.0590 - val_acc: 0.5000\n",
            "Epoch 40/45\n",
            "157/157 [==============================] - 2s 12ms/step - loss: 8.0206 - acc: 0.5024 - val_loss: 8.0590 - val_acc: 0.5000\n",
            "Epoch 41/45\n",
            "157/157 [==============================] - 2s 12ms/step - loss: 7.9180 - acc: 0.5088 - val_loss: 8.0590 - val_acc: 0.5000\n",
            "Epoch 42/45\n",
            "157/157 [==============================] - 2s 12ms/step - loss: 8.2386 - acc: 0.4889 - val_loss: 8.0590 - val_acc: 0.5000\n",
            "Epoch 43/45\n",
            "157/157 [==============================] - 2s 12ms/step - loss: 7.9693 - acc: 0.5056 - val_loss: 8.0590 - val_acc: 0.5000\n",
            "Epoch 44/45\n",
            "157/157 [==============================] - 2s 12ms/step - loss: 8.3156 - acc: 0.4841 - val_loss: 8.0590 - val_acc: 0.5000\n",
            "Epoch 45/45\n",
            "157/157 [==============================] - 2s 12ms/step - loss: 7.8795 - acc: 0.5111 - val_loss: 8.0590 - val_acc: 0.5000\n"
          ],
          "name": "stdout"
        }
      ]
    },
    {
      "cell_type": "markdown",
      "metadata": {
        "id": "pF8tIDILzIQx",
        "colab_type": "text"
      },
      "source": [
        "## Training and Validation Performance"
      ]
    },
    {
      "cell_type": "code",
      "metadata": {
        "id": "66xE1X16zU4O",
        "colab_type": "code",
        "outputId": "7b0f765f-efc3-45ae-b877-bc1a9f914e2f",
        "colab": {
          "base_uri": "https://localhost:8080/",
          "height": 51
        }
      },
      "source": [
        "valLoss, valAcc = model.evaluate(X_test, Y_test, verbose=0)\n",
        "trainLoss, trainAcc = model.evaluate(X, Y, verbose=0)\n",
        "print(\"Validation Loss: {0:.6f}, Validation Accuracy: {1:.6f}\".format(valLoss, valAcc))\n",
        "print(\"Train Loss: {0:.6f}, Train Accuracy: {1:.6f}\".format(trainLoss, trainAcc))"
      ],
      "execution_count": 33,
      "outputs": [
        {
          "output_type": "stream",
          "text": [
            "Validation Loss: 8.059048, Validation Accuracy: 0.500000\n",
            "Train Loss: 8.059048, Train Accuracy: 0.500000\n"
          ],
          "name": "stdout"
        }
      ]
    },
    {
      "cell_type": "markdown",
      "metadata": {
        "id": "VbDW34Z3zsH-",
        "colab_type": "text"
      },
      "source": [
        ""
      ]
    },
    {
      "cell_type": "code",
      "metadata": {
        "id": "902sfxj0zspA",
        "colab_type": "code",
        "outputId": "49955a85-c54d-4b85-ba04-aab29926667f",
        "colab": {
          "base_uri": "https://localhost:8080/",
          "height": 521
        }
      },
      "source": [
        "sns.set_style(\"darkgrid\")\n",
        "plt.plot(history.history['loss'], label = \"Training Loss\")\n",
        "plt.plot(history.history['val_loss'], label = \"Validation Loss\")\n",
        "plt.legend()\n",
        "plt.show()\n",
        "plt.plot(history.history['acc'],label = \"Training Accuracy\")\n",
        "plt.plot(history.history['val_acc'], label = \"Validation Accuracy\")\n",
        "plt.legend()\n",
        "plt.show()"
      ],
      "execution_count": 34,
      "outputs": [
        {
          "output_type": "display_data",
          "data": {
            "image/png": "[encoded data removed]",
            "text/plain": [
              "<Figure size 432x288 with 1 Axes>"
            ]
          },
          "metadata": {
            "tags": []
          }
        },
        {
          "output_type": "display_data",
          "data": {
            "image/png": "[encoded data removed]",
            "text/plain": [
              "<Figure size 432x288 with 1 Axes>"
            ]
          },
          "metadata": {
            "tags": []
          }
        }
      ]
    },
    {
      "cell_type": "markdown",
      "metadata": {
        "id": "2AH4znXC2F2M",
        "colab_type": "text"
      },
      "source": [
        "## Confusion Matrix"
      ]
    },
    {
      "cell_type": "code",
      "metadata": {
        "id": "INsSf0rF2CTf",
        "colab_type": "code",
        "outputId": "74e8d3b1-5a71-4b35-9d80-0924d0a5f8aa",
        "colab": {
          "base_uri": "https://localhost:8080/",
          "height": 530
        }
      },
      "source": [
        "from keras.utils.np_utils import to_categorical\n",
        "from sklearn.metrics import confusion_matrix\n",
        "pred = model.predict(X_test) # Predict values of the test set\n",
        "testLoss, testAcc = model.evaluate(X_test, Y_test, verbose=0)\n",
        "pred1hot = np.argmax(pred, axis=1) # Convert predicted classes to one hot vectors\n",
        "y_test = to_categorical(Y_test, num_classes = classNum) \n",
        "y_test1hot = np.argmax(Y_test, axis=1) # Convert true classes to one hot vectors\n",
        "cm = confusion_matrix(y_test1hot, pred1hot) #confusion matrix\n",
        "#print(cm)\n",
        "plt.figure(figsize=(9,9))\n",
        "sns.heatmap(cm, annot=True, fmt=\".3f\", linewidths=.5, square = True, cmap = 'Blues_r');\n",
        "plt.ylabel('Actual label');\n",
        "plt.xlabel('Predicted label');\n",
        "\n",
        "\n",
        "testLoss, testAcc = model.evaluate(X_test, Y_test, verbose=0)\n",
        "\n",
        "all_sample_title = 'Accuracy Score: {0}'.format(testAcc)\n",
        "plt.title(all_sample_title, size = 15);"
      ],
      "execution_count": 15,
      "outputs": [
        {
          "output_type": "display_data",
          "data": {
            "image/png": "[encoded data removed]",
            "text/plain": [
              "<Figure size 648x648 with 2 Axes>"
            ]
          },
          "metadata": {
            "tags": []
          }
        }
      ]
    },
    {
      "cell_type": "code",
      "metadata": {
        "id": "tON3LSbRtpdE",
        "colab_type": "code",
        "outputId": "69695843-bb7e-4de5-d61c-547872ed7c98",
        "colab": {
          "base_uri": "https://localhost:8080/",
          "height": 122
        }
      },
      "source": [
        "#from google.colab import drive\n",
        "#drive.mount('/content/drive/')\n",
        "#!git clone https://github.com/ardamavi/Dog-Cat-Classifier.git"
      ],
      "execution_count": 0,
      "outputs": [
        {
          "output_type": "stream",
          "text": [
            "Go to this URL in a browser: https://accounts.google.com/o/oauth2/auth?client_id=947318989803-6bn6qk8qdgf4n4g3pfee6491hc0brc4i.apps.googleusercontent.com&redirect_uri=urn%3Aietf%3Awg%3Aoauth%3A2.0%3Aoob&scope=email%20https%3A%2F%2Fwww.googleapis.com%2Fauth%2Fdocs.test%20https%3A%2F%2Fwww.googleapis.com%2Fauth%2Fdrive%20https%3A%2F%2Fwww.googleapis.com%2Fauth%2Fdrive.photos.readonly%20https%3A%2F%2Fwww.googleapis.com%2Fauth%2Fpeopleapi.readonly&response_type=code\n",
            "\n",
            "Enter your authorization code:\n",
            "··········\n",
            "Mounted at /content/drive/\n"
          ],
          "name": "stdout"
        }
      ]
    },
    {
      "cell_type": "code",
      "metadata": {
        "id": "Ux-uC4vrw4kd",
        "colab_type": "code",
        "outputId": "6ccd5e5b-9e7c-4b7a-a63a-c592605e2bbe",
        "colab": {
          "base_uri": "https://localhost:8080/",
          "height": 102
        }
      },
      "source": [
        ""
      ],
      "execution_count": 0,
      "outputs": [
        {
          "output_type": "stream",
          "text": [
            "Cloning into 'Dog-Cat-Classifier'...\n",
            "remote: Enumerating objects: 1654, done.\u001b[K\n",
            "remote: Total 1654 (delta 0), reused 0 (delta 0), pack-reused 1654\u001b[K\n",
            "Receiving objects: 100% (1654/1654), 34.83 MiB | 8.74 MiB/s, done.\n",
            "Resolving deltas: 100% (148/148), done.\n"
          ],
          "name": "stdout"
        }
      ]
    },
    {
      "cell_type": "code",
      "metadata": {
        "id": "PdfmvZutxLAg",
        "colab_type": "code",
        "outputId": "b2ca0bb1-cccd-4e24-baaf-16d5932430d9",
        "colab": {
          "base_uri": "https://localhost:8080/",
          "height": 51
        }
      },
      "source": [
        "!ls\n",
        "!cd Dog-Cat-Classifier/\n",
        "!ls"
      ],
      "execution_count": 0,
      "outputs": [
        {
          "output_type": "stream",
          "text": [
            "Dog-Cat-Classifier  drive  sample_data\tX.npy  Y.npy\n",
            "Dog-Cat-Classifier  drive  sample_data\tX.npy  Y.npy\n"
          ],
          "name": "stdout"
        }
      ]
    },
    {
      "cell_type": "code",
      "metadata": {
        "id": "LfJi4enIxeIu",
        "colab_type": "code",
        "colab": {}
      },
      "source": [
        "!cd Dog-Cat-Classifier/"
      ],
      "execution_count": 0,
      "outputs": []
    },
    {
      "cell_type": "code",
      "metadata": {
        "id": "KIQ_dEDHxiIZ",
        "colab_type": "code",
        "outputId": "d333b639-04ec-407a-fa56-5d9f777dd254",
        "colab": {
          "base_uri": "https://localhost:8080/",
          "height": 34
        }
      },
      "source": [
        "!ls"
      ],
      "execution_count": 0,
      "outputs": [
        {
          "output_type": "stream",
          "text": [
            "Dog-Cat-Classifier  drive  sample_data\tX.npy  Y.npy\n"
          ],
          "name": "stdout"
        }
      ]
    }
  ]
}