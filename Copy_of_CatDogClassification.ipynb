{
  "nbformat": 4,
  "nbformat_minor": 0,
  "metadata": {
    "colab": {
      "name": "Copy of CatDogClassification.ipynb",
      "version": "0.3.2",
      "provenance": [],
      "collapsed_sections": [],
      "include_colab_link": true
    },
    "kernelspec": {
      "name": "python3",
      "display_name": "Python 3"
    },
    "accelerator": "GPU"
  },
  "cells": [
    {
      "cell_type": "markdown",
      "metadata": {
        "id": "view-in-github",
        "colab_type": "text"
      },
      "source": [
        "<a href=\"https://colab.research.google.com/github/duyqu-chan/CS231n/blob/master/Copy_of_CatDogClassification.ipynb\" target=\"_parent\"><img src=\"https://colab.research.google.com/assets/colab-badge.svg\" alt=\"Open In Colab\"/></a>"
      ]
    },
    {
      "cell_type": "markdown",
      "metadata": {
        "id": "FL8pkMW3tq35",
        "colab_type": "text"
      },
      "source": [
        "# Cat-Dog Classification Homework\n"
      ]
    },
    {
      "cell_type": "markdown",
      "metadata": {
        "id": "eDB_1kvi8XJP",
        "colab_type": "text"
      },
      "source": [
        "### Yapilacaklar\n",
        "\n",
        "+ imaj datasetini cek\n",
        "+ goruntu-etiket ilişkisini csv dosyasından olustur\n",
        "+ imajı numpy arraye cevir\n",
        "+ labellar icin one-hot encoding\n",
        "+ tensorboard da sonuclari gorsellestirme ve basma\n",
        "+train val test \n"
      ]
    },
    {
      "cell_type": "markdown",
      "metadata": {
        "id": "ExOdh1VQ4TS1",
        "colab_type": "text"
      },
      "source": [
        "First, we will get the raw data from a GitHub[ repo](https://github.com/ardamavi/Dog-Cat-Classifier/tree/master/Data/npy_train_data)."
      ]
    },
    {
      "cell_type": "code",
      "metadata": {
        "id": "tDFFDQQk4PpQ",
        "colab_type": "code",
        "outputId": "c445b0de-4bdc-425b-c12d-246c7846d338",
        "colab": {
          "base_uri": "https://localhost:8080/",
          "height": 697
        }
      },
      "source": [
        "# X:\n",
        "! wget https://github.com/ardamavi/Dog-Cat-Classifier/blob/master/Data/npy_train_data/X.npy?raw=true -O X.npy\n",
        "  \n",
        "# Y:\n",
        "! wget https://github.com/ardamavi/Dog-Cat-Classifier/blob/master/Data/npy_train_data/Y.npy?raw=true -O Y.npy"
      ],
      "execution_count": 0,
      "outputs": [
        {
          "output_type": "stream",
          "text": [
            "--2019-06-12 12:29:19--  https://github.com/ardamavi/Dog-Cat-Classifier/blob/master/Data/npy_train_data/X.npy?raw=true\n",
            "Resolving github.com (github.com)... 13.114.40.48\n",
            "Connecting to github.com (github.com)|13.114.40.48|:443... connected.\n",
            "HTTP request sent, awaiting response... 302 Found\n",
            "Location: https://github.com/ardamavi/Dog-Cat-Classifier/raw/master/Data/npy_train_data/X.npy [following]\n",
            "--2019-06-12 12:29:20--  https://github.com/ardamavi/Dog-Cat-Classifier/raw/master/Data/npy_train_data/X.npy\n",
            "Reusing existing connection to github.com:443.\n",
            "HTTP request sent, awaiting response... 302 Found\n",
            "Location: https://media.githubusercontent.com/media/ardamavi/Dog-Cat-Classifier/master/Data/npy_train_data/X.npy [following]\n",
            "--2019-06-12 12:29:20--  https://media.githubusercontent.com/media/ardamavi/Dog-Cat-Classifier/master/Data/npy_train_data/X.npy\n",
            "Resolving media.githubusercontent.com (media.githubusercontent.com)... 151.101.0.133, 151.101.64.133, 151.101.128.133, ...\n",
            "Connecting to media.githubusercontent.com (media.githubusercontent.com)|151.101.0.133|:443... connected.\n",
            "HTTP request sent, awaiting response... 200 OK\n",
            "Length: 137625696 (131M) [application/octet-stream]\n",
            "Saving to: ‘X.npy’\n",
            "\n",
            "X.npy               100%[===================>] 131.25M   304MB/s    in 0.4s    \n",
            "\n",
            "2019-06-12 12:29:23 (304 MB/s) - ‘X.npy’ saved [137625696/137625696]\n",
            "\n",
            "--2019-06-12 12:29:24--  https://github.com/ardamavi/Dog-Cat-Classifier/blob/master/Data/npy_train_data/Y.npy?raw=true\n",
            "Resolving github.com (github.com)... 13.114.40.48\n",
            "Connecting to github.com (github.com)|13.114.40.48|:443... connected.\n",
            "HTTP request sent, awaiting response... 302 Found\n",
            "Location: https://github.com/ardamavi/Dog-Cat-Classifier/raw/master/Data/npy_train_data/Y.npy [following]\n",
            "--2019-06-12 12:29:24--  https://github.com/ardamavi/Dog-Cat-Classifier/raw/master/Data/npy_train_data/Y.npy\n",
            "Reusing existing connection to github.com:443.\n",
            "HTTP request sent, awaiting response... 302 Found\n",
            "Location: https://media.githubusercontent.com/media/ardamavi/Dog-Cat-Classifier/master/Data/npy_train_data/Y.npy [following]\n",
            "--2019-06-12 12:29:25--  https://media.githubusercontent.com/media/ardamavi/Dog-Cat-Classifier/master/Data/npy_train_data/Y.npy\n",
            "Resolving media.githubusercontent.com (media.githubusercontent.com)... 151.101.0.133, 151.101.64.133, 151.101.128.133, ...\n",
            "Connecting to media.githubusercontent.com (media.githubusercontent.com)|151.101.0.133|:443... connected.\n",
            "HTTP request sent, awaiting response... 200 OK\n",
            "Length: 22480 (22K) [application/octet-stream]\n",
            "Saving to: ‘Y.npy’\n",
            "\n",
            "Y.npy               100%[===================>]  21.95K  --.-KB/s    in 0s      \n",
            "\n",
            "2019-06-12 12:29:25 (79.6 MB/s) - ‘Y.npy’ saved [22480/22480]\n",
            "\n"
          ],
          "name": "stdout"
        }
      ]
    },
    {
      "cell_type": "markdown",
      "metadata": {
        "id": "JEdL_rkw4qb2",
        "colab_type": "text"
      },
      "source": [
        "Now, we have the following files:"
      ]
    },
    {
      "cell_type": "code",
      "metadata": {
        "id": "MiCbbjQM6MpB",
        "colab_type": "code",
        "outputId": "7369e6f5-ca8b-47d3-ebbc-23b646468dd4",
        "colab": {
          "base_uri": "https://localhost:8080/",
          "height": 34
        }
      },
      "source": [
        "!ls"
      ],
      "execution_count": 0,
      "outputs": [
        {
          "output_type": "stream",
          "text": [
            "sample_data  X.npy  Y.npy\n"
          ],
          "name": "stdout"
        }
      ]
    },
    {
      "cell_type": "markdown",
      "metadata": {
        "id": "gd4IXMVG5bdg",
        "colab_type": "text"
      },
      "source": [
        "We can read the data as follows:"
      ]
    },
    {
      "cell_type": "code",
      "metadata": {
        "id": "8WMayKBA6Vsu",
        "colab_type": "code",
        "colab": {}
      },
      "source": [
        "import numpy as np\n",
        "\n",
        "X = np.load('X.npy')\n",
        "Y = np.load('Y.npy')"
      ],
      "execution_count": 0,
      "outputs": []
    },
    {
      "cell_type": "markdown",
      "metadata": {
        "id": "1N9MokgSf2qY",
        "colab_type": "text"
      },
      "source": [
        "## About the Dataset"
      ]
    },
    {
      "cell_type": "markdown",
      "metadata": {
        "id": "Fq3ozCBy60Bj",
        "colab_type": "text"
      },
      "source": [
        "There are 1400 images belonging to two classes (cat or dog). The resolution is 64x64 and there are 3 color channels for red, green and blue."
      ]
    },
    {
      "cell_type": "code",
      "metadata": {
        "id": "Bp-dip5G5xZi",
        "colab_type": "code",
        "outputId": "bcdbc8ed-889d-45e2-b56e-31abfa8d085d",
        "colab": {
          "base_uri": "https://localhost:8080/",
          "height": 51
        }
      },
      "source": [
        "print('X Shape:', X.shape)\n",
        "print('Y Shape:', Y.shape)"
      ],
      "execution_count": 0,
      "outputs": [
        {
          "output_type": "stream",
          "text": [
            "X Shape: (1400, 64, 64, 3)\n",
            "Y Shape: (1400, 2)\n"
          ],
          "name": "stdout"
        }
      ]
    },
    {
      "cell_type": "markdown",
      "metadata": {
        "id": "B0NLBVZei7xG",
        "colab_type": "text"
      },
      "source": [
        "Hopefully, we have uniform categorical distribution."
      ]
    },
    {
      "cell_type": "code",
      "metadata": {
        "id": "io_jQ4DhimEA",
        "colab_type": "code",
        "outputId": "b15a7e25-fc32-483b-a664-be927c53a145",
        "colab": {
          "base_uri": "https://localhost:8080/",
          "height": 286
        }
      },
      "source": [
        "import seaborn as sns\n",
        "category = Y[:,0]\n",
        "sns.countplot(category)"
      ],
      "execution_count": 0,
      "outputs": [
        {
          "output_type": "execute_result",
          "data": {
            "text/plain": [
              "<matplotlib.axes._subplots.AxesSubplot at 0x7f426dcd01d0>"
            ]
          },
          "metadata": {
            "tags": []
          },
          "execution_count": 215
        },
        {
          "output_type": "display_data",
          "data": {
            "image/png": "[encoded data removed]",
            "text/plain": [
              "<Figure size 432x288 with 1 Axes>"
            ]
          },
          "metadata": {
            "tags": []
          }
        }
      ]
    },
    {
      "cell_type": "markdown",
      "metadata": {
        "id": "Onp5GbVPTCZ3",
        "colab_type": "text"
      },
      "source": [
        "Let's visualize 76th sample."
      ]
    },
    {
      "cell_type": "code",
      "metadata": {
        "id": "v1vfZaPaUrna",
        "colab_type": "code",
        "outputId": "8cb171b0-0e06-48a3-9d42-71ed78e586f7",
        "colab": {
          "base_uri": "https://localhost:8080/",
          "height": 231
        }
      },
      "source": [
        "import matplotlib\n",
        "import matplotlib.pyplot as plt\n",
        "\n",
        "sample_index = 76\n",
        "%matplotlib inline\n",
        "img = X[sample_index]/255 #normalize the image vector into 0-255 range\n",
        "labelArr = Y\n",
        "\n",
        "#decode label\n",
        "if (labelArr == [1, 0]).all():\n",
        "  label = \"cat\"\n",
        "else:\n",
        "  label = \"dog\"\n",
        "  \n",
        "plt.imshow(img, interpolation='nearest')\n",
        "plt.axis(\"off\")\n",
        "plt.title(label)\n",
        "plt.show()"
      ],
      "execution_count": 0,
      "outputs": [
        {
          "output_type": "error",
          "ename": "NameError",
          "evalue": "ignored",
          "traceback": [
            "\u001b[0;31m---------------------------------------------------------------------------\u001b[0m",
            "\u001b[0;31mNameError\u001b[0m                                 Traceback (most recent call last)",
            "\u001b[0;32m<ipython-input-7-c0bbc64cbc2d>\u001b[0m in \u001b[0;36m<module>\u001b[0;34m()\u001b[0m\n\u001b[1;32m      8\u001b[0m \u001b[0;34m\u001b[0m\u001b[0m\n\u001b[1;32m      9\u001b[0m \u001b[0;31m#decode label\u001b[0m\u001b[0;34m\u001b[0m\u001b[0;34m\u001b[0m\u001b[0;34m\u001b[0m\u001b[0m\n\u001b[0;32m---> 10\u001b[0;31m \u001b[0;32mif\u001b[0m \u001b[0;34m(\u001b[0m\u001b[0mlabelArr\u001b[0m \u001b[0;34m==\u001b[0m \u001b[0;34m[\u001b[0m\u001b[0;36m1\u001b[0m\u001b[0;34m,\u001b[0m \u001b[0;36m0\u001b[0m\u001b[0;34m]\u001b[0m\u001b[0;34m)\u001b[0m\u001b[0;34m.\u001b[0m\u001b[0mall\u001b[0m\u001b[0;34m(\u001b[0m\u001b[0;34m)\u001b[0m\u001b[0;34m:\u001b[0m\u001b[0;34m\u001b[0m\u001b[0;34m\u001b[0m\u001b[0m\n\u001b[0m\u001b[1;32m     11\u001b[0m   \u001b[0mlabel\u001b[0m \u001b[0;34m=\u001b[0m \u001b[0;34m\"cat\"\u001b[0m\u001b[0;34m\u001b[0m\u001b[0;34m\u001b[0m\u001b[0m\n\u001b[1;32m     12\u001b[0m \u001b[0;32melse\u001b[0m\u001b[0;34m:\u001b[0m\u001b[0;34m\u001b[0m\u001b[0;34m\u001b[0m\u001b[0m\n",
            "\u001b[0;31mNameError\u001b[0m: name 'labelArr' is not defined"
          ]
        }
      ]
    },
    {
      "cell_type": "markdown",
      "metadata": {
        "id": "6Mo4KYqAtjQb",
        "colab_type": "text"
      },
      "source": [
        "## Pre-processing\n",
        "\n",
        "Normalization"
      ]
    },
    {
      "cell_type": "code",
      "metadata": {
        "id": "-Sy3vDTbtZR5",
        "colab_type": "code",
        "colab": {}
      },
      "source": [
        "X /= 255."
      ],
      "execution_count": 0,
      "outputs": []
    },
    {
      "cell_type": "markdown",
      "metadata": {
        "id": "cmlCbRpfdt6B",
        "colab_type": "text"
      },
      "source": [
        "## Train/Test Split\n",
        "\n",
        "We reserved 90% of the data for training and 10% for validation. To better represent test data with training data stratified sampling is used."
      ]
    },
    {
      "cell_type": "code",
      "metadata": {
        "id": "u1oF5GrnYt1w",
        "colab_type": "code",
        "colab": {}
      },
      "source": [
        "from sklearn.model_selection import train_test_split\n",
        "\n",
        "X, X_test, Y, Y_test = train_test_split(X,Y,test_size = 0.1,stratify=Y, random_state = 42) #random seed i sabitle"
      ],
      "execution_count": 0,
      "outputs": []
    },
    {
      "cell_type": "markdown",
      "metadata": {
        "id": "ogb2zjwnfVIV",
        "colab_type": "text"
      },
      "source": [
        "## Building the Model"
      ]
    },
    {
      "cell_type": "code",
      "metadata": {
        "id": "vtZqcBvJl2mP",
        "colab_type": "code",
        "colab": {}
      },
      "source": [
        "# parameters to be optimized\n",
        "inputShape = (64, 64, 3)\n",
        "classNum = Y.shape[1]\n",
        "k1 = 5 # Kernel dimension of the 1st layer\n",
        "f1 = 32 # the number of output filters in the 1st layer\n",
        "k2 = 3 # Kernel dimension of the 2nd layer\n",
        "f2 = 32 # the number of output filters in the 2nd layer\n",
        "k3 = 3 # Kernel dimension of the 3rd layer\n",
        "f3 = 64 # the number of output filters in the 3rd layer\n",
        "k4 = 3 # Kernel dimension of the 4th layer\n",
        "f4 = 64 # the number of output filters in the 4th layer\n",
        "d_conv = 0.5 # dropout rate of the convolutional layers\n",
        "d_dense = 0.5 # dropout rate of the dense layer\n",
        "DR = 0.01 # decay rate of the optimizer\n",
        "Epochs = 45 # \n",
        "batchSize = 8 # number of randomly taken samples from features and labels to feed into each epoch until an epoch limit is reached."
      ],
      "execution_count": 0,
      "outputs": []
    },
    {
      "cell_type": "code",
      "metadata": {
        "id": "JwXLITZkXiS9",
        "colab_type": "code",
        "outputId": "b77e04de-ed39-46f7-b89e-8dc6eb5b83ee",
        "colab": {
          "base_uri": "https://localhost:8080/",
          "height": 680
        }
      },
      "source": [
        "import keras\n",
        "from keras.models import Sequential\n",
        "from keras.layers import Dense, Dropout, Flatten,  BatchNormalization, Conv2D, MaxPooling2D, Activation\n",
        "from keras import backend as K\n",
        "from keras.callbacks import LearningRateScheduler\n",
        "\n",
        "model = Sequential()\n",
        "\n",
        "model.add(Conv2D(filters=f1,kernel_size=(k1,k1),padding='Same',kernel_initializer=\"TruncatedNormal\", \n",
        "                 input_shape = inputShape))\n",
        "model.add(BatchNormalization())\n",
        "model.add(Activation('relu'))\n",
        "model.add(MaxPooling2D(pool_size=(2,2)))\n",
        "#model.add(Dropout(d_conv))\n",
        "\n",
        "\n",
        "model.add(Conv2D(filters=f2,kernel_size=(k2,k2),padding='Same',kernel_initializer=\"TruncatedNormal\"))\n",
        "model.add(BatchNormalization())\n",
        "model.add(Activation('relu'))\n",
        "model.add(MaxPooling2D(pool_size=(2,2)))\n",
        "#model.add(Dropout(d_conv))\n",
        "\n",
        "\n",
        "\n",
        "model.add(Conv2D(filters = f3, kernel_size = (k3,k3),padding = 'Same'))\n",
        "model.add(BatchNormalization())\n",
        "model.add(Activation('relu'))\n",
        "model.add(MaxPooling2D(pool_size=(2,2)))\n",
        "#model.add(Dropout(d_conv))\n",
        " \n",
        "\n",
        "\n",
        "model.add(Flatten())\n",
        "model.add(Dense(64, activation = \"relu\"))\n",
        "model.add(Dropout(d_dense))\n",
        "model.add(Dense(classNum, activation = \"softmax\"))\n",
        "\n",
        "model.summary()"
      ],
      "execution_count": 0,
      "outputs": [
        {
          "output_type": "stream",
          "text": [
            "_________________________________________________________________\n",
            "Layer (type)                 Output Shape              Param #   \n",
            "=================================================================\n",
            "conv2d_94 (Conv2D)           (None, 64, 64, 32)        2432      \n",
            "_________________________________________________________________\n",
            "batch_normalization_68 (Batc (None, 64, 64, 32)        128       \n",
            "_________________________________________________________________\n",
            "activation_22 (Activation)   (None, 64, 64, 32)        0         \n",
            "_________________________________________________________________\n",
            "max_pooling2d_71 (MaxPooling (None, 32, 32, 32)        0         \n",
            "_________________________________________________________________\n",
            "conv2d_95 (Conv2D)           (None, 32, 32, 32)        9248      \n",
            "_________________________________________________________________\n",
            "batch_normalization_69 (Batc (None, 32, 32, 32)        128       \n",
            "_________________________________________________________________\n",
            "activation_23 (Activation)   (None, 32, 32, 32)        0         \n",
            "_________________________________________________________________\n",
            "max_pooling2d_72 (MaxPooling (None, 16, 16, 32)        0         \n",
            "_________________________________________________________________\n",
            "conv2d_96 (Conv2D)           (None, 16, 16, 64)        18496     \n",
            "_________________________________________________________________\n",
            "batch_normalization_70 (Batc (None, 16, 16, 64)        256       \n",
            "_________________________________________________________________\n",
            "activation_24 (Activation)   (None, 16, 16, 64)        0         \n",
            "_________________________________________________________________\n",
            "max_pooling2d_73 (MaxPooling (None, 8, 8, 64)          0         \n",
            "_________________________________________________________________\n",
            "flatten_29 (Flatten)         (None, 4096)              0         \n",
            "_________________________________________________________________\n",
            "dense_57 (Dense)             (None, 64)                262208    \n",
            "_________________________________________________________________\n",
            "dropout_32 (Dropout)         (None, 64)                0         \n",
            "_________________________________________________________________\n",
            "dense_58 (Dense)             (None, 2)                 130       \n",
            "=================================================================\n",
            "Total params: 293,026\n",
            "Trainable params: 292,770\n",
            "Non-trainable params: 256\n",
            "_________________________________________________________________\n"
          ],
          "name": "stdout"
        }
      ]
    },
    {
      "cell_type": "markdown",
      "metadata": {
        "id": "WeZBTBmVvEvc",
        "colab_type": "text"
      },
      "source": [
        "## Compilation"
      ]
    },
    {
      "cell_type": "code",
      "metadata": {
        "id": "2g3YdAi5ucpQ",
        "colab_type": "code",
        "colab": {}
      },
      "source": [
        "model.compile(loss=keras.losses.categorical_crossentropy,\n",
        "              optimizer=keras.optimizers.Adam(), #instead of annealer decay = DR can be set, too\n",
        "              metrics=['accuracy'])\n",
        "annealer = LearningRateScheduler(lambda x: 1e-3 * 0.9 ** x)"
      ],
      "execution_count": 0,
      "outputs": []
    },
    {
      "cell_type": "markdown",
      "metadata": {
        "id": "bwAp9UOLwa3R",
        "colab_type": "text"
      },
      "source": [
        "## Data Augmentation"
      ]
    },
    {
      "cell_type": "code",
      "metadata": {
        "id": "Dn-rZ4OowaFQ",
        "colab_type": "code",
        "colab": {}
      },
      "source": [
        "from keras.preprocessing.image import ImageDataGenerator\n",
        "datagen = ImageDataGenerator(\n",
        "        rotation_range=25,  # randomly rotate images in the range (degrees, 0 to 180)\n",
        "        zoom_range = 0.2, # Randomly zoom image \n",
        "        width_shift_range=0.2,  # randomly shift images horizontally (fraction of total width)\n",
        "        height_shift_range=0.2,  # randomly shift images vertically (fraction of total height)\n",
        "        horizontal_flip=True,  # randomly flip images\n",
        "        vertical_flip=False)  # randomly flip images\n",
        "\n",
        "\n",
        "datagen.fit(X)"
      ],
      "execution_count": 0,
      "outputs": []
    },
    {
      "cell_type": "markdown",
      "metadata": {
        "id": "p2O9dypAyesy",
        "colab_type": "text"
      },
      "source": [
        "## Training"
      ]
    },
    {
      "cell_type": "code",
      "metadata": {
        "id": "ci3xe8L5yeMi",
        "colab_type": "code",
        "outputId": "d57739ff-0527-4d79-e082-1b19894d49f7",
        "colab": {
          "base_uri": "https://localhost:8080/",
          "height": 918
        }
      },
      "source": [
        "# Fit the model\n",
        "history = model.fit_generator(datagen.flow(X,Y, batch_size=batchSize),\n",
        "                              epochs = Epochs, validation_data = (X_test,Y_test),\n",
        "                              verbose = 1, steps_per_epoch=X.shape[0] // batchSize\n",
        "                              , callbacks=[annealer])"
      ],
      "execution_count": 0,
      "outputs": [
        {
          "output_type": "stream",
          "text": [
            "Epoch 1/45\n",
            "134/134 [==============================] - 11s 79ms/step - loss: 0.6933 - acc: 0.4813 - val_loss: 0.6931 - val_acc: 0.5000\n",
            "Epoch 2/45\n",
            "134/134 [==============================] - 2s 14ms/step - loss: 0.6933 - acc: 0.5026 - val_loss: 0.6932 - val_acc: 0.5000\n",
            "Epoch 3/45\n",
            "134/134 [==============================] - 2s 15ms/step - loss: 0.6932 - acc: 0.4985 - val_loss: 0.6931 - val_acc: 0.5000\n",
            "Epoch 4/45\n",
            "134/134 [==============================] - 2s 15ms/step - loss: 0.6932 - acc: 0.4912 - val_loss: 0.6931 - val_acc: 0.5000\n",
            "Epoch 5/45\n",
            "134/134 [==============================] - 2s 14ms/step - loss: 0.6933 - acc: 0.4948 - val_loss: 0.6932 - val_acc: 0.5000\n",
            "Epoch 6/45\n",
            "134/134 [==============================] - 2s 15ms/step - loss: 0.6933 - acc: 0.4884 - val_loss: 0.6931 - val_acc: 0.5000\n",
            "Epoch 7/45\n",
            "134/134 [==============================] - 2s 15ms/step - loss: 0.6932 - acc: 0.4946 - val_loss: 0.6931 - val_acc: 0.5000\n",
            "Epoch 8/45\n",
            "134/134 [==============================] - 2s 15ms/step - loss: 0.6933 - acc: 0.4957 - val_loss: 0.6932 - val_acc: 0.5000\n",
            "Epoch 9/45\n",
            "134/134 [==============================] - 2s 15ms/step - loss: 0.6932 - acc: 0.4797 - val_loss: 0.6931 - val_acc: 0.5000\n",
            "Epoch 10/45\n",
            "134/134 [==============================] - 2s 15ms/step - loss: 0.6932 - acc: 0.5062 - val_loss: 0.6931 - val_acc: 0.5000\n",
            "Epoch 11/45\n",
            "134/134 [==============================] - 2s 15ms/step - loss: 0.6932 - acc: 0.4838 - val_loss: 0.6931 - val_acc: 0.5000\n",
            "Epoch 12/45\n",
            "134/134 [==============================] - 2s 15ms/step - loss: 0.6932 - acc: 0.4877 - val_loss: 0.6931 - val_acc: 0.5000\n",
            "Epoch 13/45\n",
            "134/134 [==============================] - 2s 15ms/step - loss: 0.6932 - acc: 0.4849 - val_loss: 0.6931 - val_acc: 0.5000\n",
            "Epoch 14/45\n",
            "134/134 [==============================] - 2s 15ms/step - loss: 0.6932 - acc: 0.4927 - val_loss: 0.6931 - val_acc: 0.5000\n",
            "Epoch 15/45\n",
            "134/134 [==============================] - 2s 15ms/step - loss: 0.6932 - acc: 0.4532 - val_loss: 0.6931 - val_acc: 0.5000\n",
            "Epoch 16/45\n",
            "134/134 [==============================] - 2s 15ms/step - loss: 0.6932 - acc: 0.4716 - val_loss: 0.6931 - val_acc: 0.5000\n",
            "Epoch 17/45\n",
            " 46/134 [=========>....................] - ETA: 1s - loss: 0.6932 - acc: 0.4712"
          ],
          "name": "stdout"
        },
        {
          "output_type": "error",
          "ename": "KeyboardInterrupt",
          "evalue": "ignored",
          "traceback": [
            "\u001b[0;31m---------------------------------------------------------------------------\u001b[0m",
            "\u001b[0;31mKeyboardInterrupt\u001b[0m                         Traceback (most recent call last)",
            "\u001b[0;32m<ipython-input-211-ac0eeaf36f48>\u001b[0m in \u001b[0;36m<module>\u001b[0;34m()\u001b[0m\n\u001b[1;32m      2\u001b[0m                               \u001b[0mepochs\u001b[0m \u001b[0;34m=\u001b[0m \u001b[0mEpochs\u001b[0m\u001b[0;34m,\u001b[0m \u001b[0mvalidation_data\u001b[0m \u001b[0;34m=\u001b[0m \u001b[0;34m(\u001b[0m\u001b[0mX_test\u001b[0m\u001b[0;34m,\u001b[0m\u001b[0mY_test\u001b[0m\u001b[0;34m)\u001b[0m\u001b[0;34m,\u001b[0m\u001b[0;34m\u001b[0m\u001b[0;34m\u001b[0m\u001b[0m\n\u001b[1;32m      3\u001b[0m                               \u001b[0mverbose\u001b[0m \u001b[0;34m=\u001b[0m \u001b[0;36m1\u001b[0m\u001b[0;34m,\u001b[0m \u001b[0msteps_per_epoch\u001b[0m\u001b[0;34m=\u001b[0m\u001b[0mX\u001b[0m\u001b[0;34m.\u001b[0m\u001b[0mshape\u001b[0m\u001b[0;34m[\u001b[0m\u001b[0;36m0\u001b[0m\u001b[0;34m]\u001b[0m \u001b[0;34m//\u001b[0m \u001b[0mbatchSize\u001b[0m\u001b[0;34m\u001b[0m\u001b[0;34m\u001b[0m\u001b[0m\n\u001b[0;32m----> 4\u001b[0;31m                               , callbacks=[annealer])\n\u001b[0m",
            "\u001b[0;32m/usr/local/lib/python3.6/dist-packages/keras/legacy/interfaces.py\u001b[0m in \u001b[0;36mwrapper\u001b[0;34m(*args, **kwargs)\u001b[0m\n\u001b[1;32m     89\u001b[0m                 warnings.warn('Update your `' + object_name + '` call to the ' +\n\u001b[1;32m     90\u001b[0m                               'Keras 2 API: ' + signature, stacklevel=2)\n\u001b[0;32m---> 91\u001b[0;31m             \u001b[0;32mreturn\u001b[0m \u001b[0mfunc\u001b[0m\u001b[0;34m(\u001b[0m\u001b[0;34m*\u001b[0m\u001b[0margs\u001b[0m\u001b[0;34m,\u001b[0m \u001b[0;34m**\u001b[0m\u001b[0mkwargs\u001b[0m\u001b[0;34m)\u001b[0m\u001b[0;34m\u001b[0m\u001b[0;34m\u001b[0m\u001b[0m\n\u001b[0m\u001b[1;32m     92\u001b[0m         \u001b[0mwrapper\u001b[0m\u001b[0;34m.\u001b[0m\u001b[0m_original_function\u001b[0m \u001b[0;34m=\u001b[0m \u001b[0mfunc\u001b[0m\u001b[0;34m\u001b[0m\u001b[0;34m\u001b[0m\u001b[0m\n\u001b[1;32m     93\u001b[0m         \u001b[0;32mreturn\u001b[0m \u001b[0mwrapper\u001b[0m\u001b[0;34m\u001b[0m\u001b[0;34m\u001b[0m\u001b[0m\n",
            "\u001b[0;32m/usr/local/lib/python3.6/dist-packages/keras/engine/training.py\u001b[0m in \u001b[0;36mfit_generator\u001b[0;34m(self, generator, steps_per_epoch, epochs, verbose, callbacks, validation_data, validation_steps, class_weight, max_queue_size, workers, use_multiprocessing, shuffle, initial_epoch)\u001b[0m\n\u001b[1;32m   1416\u001b[0m             \u001b[0muse_multiprocessing\u001b[0m\u001b[0;34m=\u001b[0m\u001b[0muse_multiprocessing\u001b[0m\u001b[0;34m,\u001b[0m\u001b[0;34m\u001b[0m\u001b[0;34m\u001b[0m\u001b[0m\n\u001b[1;32m   1417\u001b[0m             \u001b[0mshuffle\u001b[0m\u001b[0;34m=\u001b[0m\u001b[0mshuffle\u001b[0m\u001b[0;34m,\u001b[0m\u001b[0;34m\u001b[0m\u001b[0;34m\u001b[0m\u001b[0m\n\u001b[0;32m-> 1418\u001b[0;31m             initial_epoch=initial_epoch)\n\u001b[0m\u001b[1;32m   1419\u001b[0m \u001b[0;34m\u001b[0m\u001b[0m\n\u001b[1;32m   1420\u001b[0m     \u001b[0;34m@\u001b[0m\u001b[0minterfaces\u001b[0m\u001b[0;34m.\u001b[0m\u001b[0mlegacy_generator_methods_support\u001b[0m\u001b[0;34m\u001b[0m\u001b[0;34m\u001b[0m\u001b[0m\n",
            "\u001b[0;32m/usr/local/lib/python3.6/dist-packages/keras/engine/training_generator.py\u001b[0m in \u001b[0;36mfit_generator\u001b[0;34m(model, generator, steps_per_epoch, epochs, verbose, callbacks, validation_data, validation_steps, class_weight, max_queue_size, workers, use_multiprocessing, shuffle, initial_epoch)\u001b[0m\n\u001b[1;32m    215\u001b[0m                 outs = model.train_on_batch(x, y,\n\u001b[1;32m    216\u001b[0m                                             \u001b[0msample_weight\u001b[0m\u001b[0;34m=\u001b[0m\u001b[0msample_weight\u001b[0m\u001b[0;34m,\u001b[0m\u001b[0;34m\u001b[0m\u001b[0;34m\u001b[0m\u001b[0m\n\u001b[0;32m--> 217\u001b[0;31m                                             class_weight=class_weight)\n\u001b[0m\u001b[1;32m    218\u001b[0m \u001b[0;34m\u001b[0m\u001b[0m\n\u001b[1;32m    219\u001b[0m                 \u001b[0mouts\u001b[0m \u001b[0;34m=\u001b[0m \u001b[0mto_list\u001b[0m\u001b[0;34m(\u001b[0m\u001b[0mouts\u001b[0m\u001b[0;34m)\u001b[0m\u001b[0;34m\u001b[0m\u001b[0;34m\u001b[0m\u001b[0m\n",
            "\u001b[0;32m/usr/local/lib/python3.6/dist-packages/keras/engine/training.py\u001b[0m in \u001b[0;36mtrain_on_batch\u001b[0;34m(self, x, y, sample_weight, class_weight)\u001b[0m\n\u001b[1;32m   1215\u001b[0m             \u001b[0mins\u001b[0m \u001b[0;34m=\u001b[0m \u001b[0mx\u001b[0m \u001b[0;34m+\u001b[0m \u001b[0my\u001b[0m \u001b[0;34m+\u001b[0m \u001b[0msample_weights\u001b[0m\u001b[0;34m\u001b[0m\u001b[0;34m\u001b[0m\u001b[0m\n\u001b[1;32m   1216\u001b[0m         \u001b[0mself\u001b[0m\u001b[0;34m.\u001b[0m\u001b[0m_make_train_function\u001b[0m\u001b[0;34m(\u001b[0m\u001b[0;34m)\u001b[0m\u001b[0;34m\u001b[0m\u001b[0;34m\u001b[0m\u001b[0m\n\u001b[0;32m-> 1217\u001b[0;31m         \u001b[0moutputs\u001b[0m \u001b[0;34m=\u001b[0m \u001b[0mself\u001b[0m\u001b[0;34m.\u001b[0m\u001b[0mtrain_function\u001b[0m\u001b[0;34m(\u001b[0m\u001b[0mins\u001b[0m\u001b[0;34m)\u001b[0m\u001b[0;34m\u001b[0m\u001b[0;34m\u001b[0m\u001b[0m\n\u001b[0m\u001b[1;32m   1218\u001b[0m         \u001b[0;32mreturn\u001b[0m \u001b[0munpack_singleton\u001b[0m\u001b[0;34m(\u001b[0m\u001b[0moutputs\u001b[0m\u001b[0;34m)\u001b[0m\u001b[0;34m\u001b[0m\u001b[0;34m\u001b[0m\u001b[0m\n\u001b[1;32m   1219\u001b[0m \u001b[0;34m\u001b[0m\u001b[0m\n",
            "\u001b[0;32m/usr/local/lib/python3.6/dist-packages/keras/backend/tensorflow_backend.py\u001b[0m in \u001b[0;36m__call__\u001b[0;34m(self, inputs)\u001b[0m\n\u001b[1;32m   2713\u001b[0m                 \u001b[0;32mreturn\u001b[0m \u001b[0mself\u001b[0m\u001b[0;34m.\u001b[0m\u001b[0m_legacy_call\u001b[0m\u001b[0;34m(\u001b[0m\u001b[0minputs\u001b[0m\u001b[0;34m)\u001b[0m\u001b[0;34m\u001b[0m\u001b[0;34m\u001b[0m\u001b[0m\n\u001b[1;32m   2714\u001b[0m \u001b[0;34m\u001b[0m\u001b[0m\n\u001b[0;32m-> 2715\u001b[0;31m             \u001b[0;32mreturn\u001b[0m \u001b[0mself\u001b[0m\u001b[0;34m.\u001b[0m\u001b[0m_call\u001b[0m\u001b[0;34m(\u001b[0m\u001b[0minputs\u001b[0m\u001b[0;34m)\u001b[0m\u001b[0;34m\u001b[0m\u001b[0;34m\u001b[0m\u001b[0m\n\u001b[0m\u001b[1;32m   2716\u001b[0m         \u001b[0;32melse\u001b[0m\u001b[0;34m:\u001b[0m\u001b[0;34m\u001b[0m\u001b[0;34m\u001b[0m\u001b[0m\n\u001b[1;32m   2717\u001b[0m             \u001b[0;32mif\u001b[0m \u001b[0mpy_any\u001b[0m\u001b[0;34m(\u001b[0m\u001b[0mis_tensor\u001b[0m\u001b[0;34m(\u001b[0m\u001b[0mx\u001b[0m\u001b[0;34m)\u001b[0m \u001b[0;32mfor\u001b[0m \u001b[0mx\u001b[0m \u001b[0;32min\u001b[0m \u001b[0minputs\u001b[0m\u001b[0;34m)\u001b[0m\u001b[0;34m:\u001b[0m\u001b[0;34m\u001b[0m\u001b[0;34m\u001b[0m\u001b[0m\n",
            "\u001b[0;32m/usr/local/lib/python3.6/dist-packages/keras/backend/tensorflow_backend.py\u001b[0m in \u001b[0;36m_call\u001b[0;34m(self, inputs)\u001b[0m\n\u001b[1;32m   2673\u001b[0m             \u001b[0mfetched\u001b[0m \u001b[0;34m=\u001b[0m \u001b[0mself\u001b[0m\u001b[0;34m.\u001b[0m\u001b[0m_callable_fn\u001b[0m\u001b[0;34m(\u001b[0m\u001b[0;34m*\u001b[0m\u001b[0marray_vals\u001b[0m\u001b[0;34m,\u001b[0m \u001b[0mrun_metadata\u001b[0m\u001b[0;34m=\u001b[0m\u001b[0mself\u001b[0m\u001b[0;34m.\u001b[0m\u001b[0mrun_metadata\u001b[0m\u001b[0;34m)\u001b[0m\u001b[0;34m\u001b[0m\u001b[0;34m\u001b[0m\u001b[0m\n\u001b[1;32m   2674\u001b[0m         \u001b[0;32melse\u001b[0m\u001b[0;34m:\u001b[0m\u001b[0;34m\u001b[0m\u001b[0;34m\u001b[0m\u001b[0m\n\u001b[0;32m-> 2675\u001b[0;31m             \u001b[0mfetched\u001b[0m \u001b[0;34m=\u001b[0m \u001b[0mself\u001b[0m\u001b[0;34m.\u001b[0m\u001b[0m_callable_fn\u001b[0m\u001b[0;34m(\u001b[0m\u001b[0;34m*\u001b[0m\u001b[0marray_vals\u001b[0m\u001b[0;34m)\u001b[0m\u001b[0;34m\u001b[0m\u001b[0;34m\u001b[0m\u001b[0m\n\u001b[0m\u001b[1;32m   2676\u001b[0m         \u001b[0;32mreturn\u001b[0m \u001b[0mfetched\u001b[0m\u001b[0;34m[\u001b[0m\u001b[0;34m:\u001b[0m\u001b[0mlen\u001b[0m\u001b[0;34m(\u001b[0m\u001b[0mself\u001b[0m\u001b[0;34m.\u001b[0m\u001b[0moutputs\u001b[0m\u001b[0;34m)\u001b[0m\u001b[0;34m]\u001b[0m\u001b[0;34m\u001b[0m\u001b[0;34m\u001b[0m\u001b[0m\n\u001b[1;32m   2677\u001b[0m \u001b[0;34m\u001b[0m\u001b[0m\n",
            "\u001b[0;32m/usr/local/lib/python3.6/dist-packages/tensorflow/python/client/session.py\u001b[0m in \u001b[0;36m__call__\u001b[0;34m(self, *args, **kwargs)\u001b[0m\n\u001b[1;32m   1437\u001b[0m           ret = tf_session.TF_SessionRunCallable(\n\u001b[1;32m   1438\u001b[0m               \u001b[0mself\u001b[0m\u001b[0;34m.\u001b[0m\u001b[0m_session\u001b[0m\u001b[0;34m.\u001b[0m\u001b[0m_session\u001b[0m\u001b[0;34m,\u001b[0m \u001b[0mself\u001b[0m\u001b[0;34m.\u001b[0m\u001b[0m_handle\u001b[0m\u001b[0;34m,\u001b[0m \u001b[0margs\u001b[0m\u001b[0;34m,\u001b[0m \u001b[0mstatus\u001b[0m\u001b[0;34m,\u001b[0m\u001b[0;34m\u001b[0m\u001b[0;34m\u001b[0m\u001b[0m\n\u001b[0;32m-> 1439\u001b[0;31m               run_metadata_ptr)\n\u001b[0m\u001b[1;32m   1440\u001b[0m         \u001b[0;32mif\u001b[0m \u001b[0mrun_metadata\u001b[0m\u001b[0;34m:\u001b[0m\u001b[0;34m\u001b[0m\u001b[0;34m\u001b[0m\u001b[0m\n\u001b[1;32m   1441\u001b[0m           \u001b[0mproto_data\u001b[0m \u001b[0;34m=\u001b[0m \u001b[0mtf_session\u001b[0m\u001b[0;34m.\u001b[0m\u001b[0mTF_GetBuffer\u001b[0m\u001b[0;34m(\u001b[0m\u001b[0mrun_metadata_ptr\u001b[0m\u001b[0;34m)\u001b[0m\u001b[0;34m\u001b[0m\u001b[0;34m\u001b[0m\u001b[0m\n",
            "\u001b[0;31mKeyboardInterrupt\u001b[0m: "
          ]
        }
      ]
    },
    {
      "cell_type": "markdown",
      "metadata": {
        "id": "pF8tIDILzIQx",
        "colab_type": "text"
      },
      "source": [
        "## Training and Validation Performance"
      ]
    },
    {
      "cell_type": "code",
      "metadata": {
        "id": "66xE1X16zU4O",
        "colab_type": "code",
        "outputId": "841960f0-1c1f-49f5-c858-443e8619fcbe",
        "colab": {
          "base_uri": "https://localhost:8080/",
          "height": 51
        }
      },
      "source": [
        "valLoss, valAcc = model.evaluate(X_test, Y_test, verbose=0)\n",
        "trainLoss, trainAcc = model.evaluate(X, Y, verbose=0)\n",
        "print(\"Validation Loss: {0:.6f}, Validation Accuracy: {1:.6f}\".format(valLoss, valAcc))\n",
        "print(\"Train Loss: {0:.6f}, Train Accuracy: {1:.6f}\".format(trainLoss, trainAcc))"
      ],
      "execution_count": 0,
      "outputs": [
        {
          "output_type": "stream",
          "text": [
            "Validation Loss: 0.693148, Validation Accuracy: 0.500000\n",
            "Train Loss: 0.693147, Train Accuracy: 0.500464\n"
          ],
          "name": "stdout"
        }
      ]
    },
    {
      "cell_type": "markdown",
      "metadata": {
        "id": "VbDW34Z3zsH-",
        "colab_type": "text"
      },
      "source": [
        ""
      ]
    },
    {
      "cell_type": "code",
      "metadata": {
        "id": "902sfxj0zspA",
        "colab_type": "code",
        "outputId": "bfb6c63d-c553-443f-a72b-f6ddc60e8e80",
        "colab": {
          "base_uri": "https://localhost:8080/",
          "height": 521
        }
      },
      "source": [
        "sns.set_style(\"darkgrid\")\n",
        "plt.plot(history.history['loss'], label = \"Training Loss\")\n",
        "plt.plot(history.history['val_loss'], label = \"Validation Loss\")\n",
        "plt.legend()\n",
        "plt.show()\n",
        "plt.plot(history.history['acc'],label = \"Training Accuracy\")\n",
        "plt.plot(history.history['val_acc'], label = \"Validation Accuracy\")\n",
        "plt.legend()\n",
        "plt.show()"
      ],
      "execution_count": 0,
      "outputs": [
        {
          "output_type": "display_data",
          "data": {
            "image/png": "[encoded data removed]",
            "text/plain": [
              "<Figure size 432x288 with 1 Axes>"
            ]
          },
          "metadata": {
            "tags": []
          }
        },
        {
          "output_type": "display_data",
          "data": {
            "image/png": "[encoded data removed]",
            "text/plain": [
              "<Figure size 432x288 with 1 Axes>"
            ]
          },
          "metadata": {
            "tags": []
          }
        }
      ]
    },
    {
      "cell_type": "markdown",
      "metadata": {
        "id": "2AH4znXC2F2M",
        "colab_type": "text"
      },
      "source": [
        "## Confusion Matrix"
      ]
    },
    {
      "cell_type": "code",
      "metadata": {
        "id": "INsSf0rF2CTf",
        "colab_type": "code",
        "outputId": "e378cc6b-e4dc-4d3c-f93f-3b066824429d",
        "colab": {
          "base_uri": "https://localhost:8080/",
          "height": 530
        }
      },
      "source": [
        "from keras.utils.np_utils import to_categorical\n",
        "from sklearn.metrics import confusion_matrix\n",
        "pred = model.predict(X_test) # Predict values of the test set\n",
        "testLoss, testAcc = model.evaluate(X_test, Y_test, verbose=0)\n",
        "pred1hot = np.argmax(pred, axis=1) # Convert predicted classes to one hot vectors\n",
        "y_test = to_categorical(Y_test, num_classes = classNum) \n",
        "y_test1hot = np.argmax(Y_test, axis=1) # Convert true classes to one hot vectors\n",
        "cm = confusion_matrix(y_test1hot, pred1hot) #confusion matrix\n",
        "#print(cm)\n",
        "plt.figure(figsize=(9,9))\n",
        "sns.heatmap(cm, annot=True, fmt=\".3f\", linewidths=.5, square = True, cmap = 'Blues_r');\n",
        "plt.ylabel('Actual label');\n",
        "plt.xlabel('Predicted label');\n",
        "\n",
        "\n",
        "testLoss, testAcc = model.evaluate(X_test, Y_test, verbose=0)\n",
        "\n",
        "all_sample_title = 'Accuracy Score: {0}'.format(testAcc)\n",
        "plt.title(all_sample_title, size = 15);"
      ],
      "execution_count": 0,
      "outputs": [
        {
          "output_type": "display_data",
          "data": {
            "image/png": "[encoded data removed]",
            "text/plain": [
              "<Figure size 648x648 with 2 Axes>"
            ]
          },
          "metadata": {
            "tags": []
          }
        }
      ]
    },
    {
      "cell_type": "code",
      "metadata": {
        "id": "tON3LSbRtpdE",
        "colab_type": "code",
        "outputId": "69695843-bb7e-4de5-d61c-547872ed7c98",
        "colab": {
          "base_uri": "https://localhost:8080/",
          "height": 122
        }
      },
      "source": [
        "#from google.colab import drive\n",
        "#drive.mount('/content/drive/')\n",
        "#!git clone https://github.com/ardamavi/Dog-Cat-Classifier.git"
      ],
      "execution_count": 0,
      "outputs": [
        {
          "output_type": "stream",
          "text": [
            "Go to this URL in a browser: https://accounts.google.com/o/oauth2/auth?client_id=947318989803-6bn6qk8qdgf4n4g3pfee6491hc0brc4i.apps.googleusercontent.com&redirect_uri=urn%3Aietf%3Awg%3Aoauth%3A2.0%3Aoob&scope=email%20https%3A%2F%2Fwww.googleapis.com%2Fauth%2Fdocs.test%20https%3A%2F%2Fwww.googleapis.com%2Fauth%2Fdrive%20https%3A%2F%2Fwww.googleapis.com%2Fauth%2Fdrive.photos.readonly%20https%3A%2F%2Fwww.googleapis.com%2Fauth%2Fpeopleapi.readonly&response_type=code\n",
            "\n",
            "Enter your authorization code:\n",
            "··········\n",
            "Mounted at /content/drive/\n"
          ],
          "name": "stdout"
        }
      ]
    },
    {
      "cell_type": "code",
      "metadata": {
        "id": "Ux-uC4vrw4kd",
        "colab_type": "code",
        "outputId": "6ccd5e5b-9e7c-4b7a-a63a-c592605e2bbe",
        "colab": {
          "base_uri": "https://localhost:8080/",
          "height": 102
        }
      },
      "source": [
        ""
      ],
      "execution_count": 0,
      "outputs": [
        {
          "output_type": "stream",
          "text": [
            "Cloning into 'Dog-Cat-Classifier'...\n",
            "remote: Enumerating objects: 1654, done.\u001b[K\n",
            "remote: Total 1654 (delta 0), reused 0 (delta 0), pack-reused 1654\u001b[K\n",
            "Receiving objects: 100% (1654/1654), 34.83 MiB | 8.74 MiB/s, done.\n",
            "Resolving deltas: 100% (148/148), done.\n"
          ],
          "name": "stdout"
        }
      ]
    },
    {
      "cell_type": "code",
      "metadata": {
        "id": "PdfmvZutxLAg",
        "colab_type": "code",
        "outputId": "b2ca0bb1-cccd-4e24-baaf-16d5932430d9",
        "colab": {
          "base_uri": "https://localhost:8080/",
          "height": 51
        }
      },
      "source": [
        "!ls\n",
        "!cd Dog-Cat-Classifier/\n",
        "!ls"
      ],
      "execution_count": 0,
      "outputs": [
        {
          "output_type": "stream",
          "text": [
            "Dog-Cat-Classifier  drive  sample_data\tX.npy  Y.npy\n",
            "Dog-Cat-Classifier  drive  sample_data\tX.npy  Y.npy\n"
          ],
          "name": "stdout"
        }
      ]
    },
    {
      "cell_type": "code",
      "metadata": {
        "id": "LfJi4enIxeIu",
        "colab_type": "code",
        "colab": {}
      },
      "source": [
        "!cd Dog-Cat-Classifier/"
      ],
      "execution_count": 0,
      "outputs": []
    },
    {
      "cell_type": "code",
      "metadata": {
        "id": "KIQ_dEDHxiIZ",
        "colab_type": "code",
        "outputId": "d333b639-04ec-407a-fa56-5d9f777dd254",
        "colab": {
          "base_uri": "https://localhost:8080/",
          "height": 34
        }
      },
      "source": [
        "!ls"
      ],
      "execution_count": 0,
      "outputs": [
        {
          "output_type": "stream",
          "text": [
            "Dog-Cat-Classifier  drive  sample_data\tX.npy  Y.npy\n"
          ],
          "name": "stdout"
        }
      ]
    }
  ]
}