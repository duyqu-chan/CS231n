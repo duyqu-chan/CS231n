{
  "nbformat": 4,
  "nbformat_minor": 0,
  "metadata": {
    "colab": {
      "name": "CS231 Python Tutorial.ipynb",
      "version": "0.3.2",
      "provenance": [],
      "collapsed_sections": [],
      "include_colab_link": true
    },
    "kernelspec": {
      "name": "python3",
      "display_name": "Python 3"
    }
  },
  "cells": [
    {
      "cell_type": "markdown",
      "metadata": {
        "id": "view-in-github",
        "colab_type": "text"
      },
      "source": [
        "<a href=\"https://colab.research.google.com/github/duyqu-chan/CS231n/blob/master/CS231_Python_Tutorial.ipynb\" target=\"_parent\"><img src=\"https://colab.research.google.com/assets/colab-badge.svg\" alt=\"Open In Colab\"/></a>"
      ]
    },
    {
      "cell_type": "markdown",
      "metadata": {
        "id": "xGLjzzDQK1-h",
        "colab_type": "text"
      },
      "source": [
        "# [CS231 PYTHON TUTORIAL](http://cs231n.github.io/python-numpy-tutorial/)"
      ]
    },
    {
      "cell_type": "markdown",
      "metadata": {
        "id": "a2EbJv1fL8kF",
        "colab_type": "text"
      },
      "source": [
        "## Basic Data Types\n",
        "\n",
        "+ **Numbers**"
      ]
    },
    {
      "cell_type": "code",
      "metadata": {
        "id": "QYJIqLCOKzq2",
        "colab_type": "code",
        "outputId": "10fff396-4718-4b63-e1b2-cb0eb1f32aa0",
        "colab": {
          "base_uri": "https://localhost:8080/",
          "height": 187
        }
      },
      "source": [
        "x = 3\n",
        "print(type(x)) #<class 'int'>\n",
        "print(x) #3\n",
        "print(x+1) #4\n",
        "print(x-1) #2\n",
        "print(x*2) #6\n",
        "print(x**2) #9\n",
        "x += 1\n",
        "print(x)  # Prints \"4\"\n",
        "x *= 2\n",
        "print(x)  # Prints \"8\"\n",
        "y = 2.5\n",
        "print(type(y)) # Prints \"<class 'float'>\"\n",
        "print(y, y + 1, y * 2, y ** 2) # Prints \"2.5 3.5 5.0 6.25\""
      ],
      "execution_count": 0,
      "outputs": [
        {
          "output_type": "stream",
          "text": [
            "<class 'int'>\n",
            "3\n",
            "4\n",
            "2\n",
            "6\n",
            "9\n",
            "4\n",
            "8\n",
            "<class 'float'>\n",
            "2.5 3.5 5.0 6.25\n"
          ],
          "name": "stdout"
        }
      ]
    },
    {
      "cell_type": "markdown",
      "metadata": {
        "id": "Ky1xyPayVEM1",
        "colab_type": "text"
      },
      "source": [
        "+ **Boolean**"
      ]
    },
    {
      "cell_type": "code",
      "metadata": {
        "id": "46lncHe_Vec1",
        "colab_type": "code",
        "outputId": "ff5e9809-0350-4d67-e409-ff91abf96497",
        "colab": {
          "base_uri": "https://localhost:8080/",
          "height": 102
        }
      },
      "source": [
        "t = True\n",
        "f = False\n",
        "print(type(t)) #<class 'bool'>\n",
        "print(t and f) #False\n",
        "print(t or f) #True\n",
        "print(not t) #False\n",
        "print(t != f) #True\n"
      ],
      "execution_count": 0,
      "outputs": [
        {
          "output_type": "stream",
          "text": [
            "<class 'bool'>\n",
            "False\n",
            "True\n",
            "False\n",
            "True\n"
          ],
          "name": "stdout"
        }
      ]
    },
    {
      "cell_type": "markdown",
      "metadata": {
        "id": "da3XwNFDWY1V",
        "colab_type": "text"
      },
      "source": [
        "+ **Strings**"
      ]
    },
    {
      "cell_type": "code",
      "metadata": {
        "id": "rbKJ8fh_WbZN",
        "colab_type": "code",
        "outputId": "1e0ea12b-87cb-4c3e-b767-3606a13ed613",
        "colab": {
          "base_uri": "https://localhost:8080/",
          "height": 85
        }
      },
      "source": [
        "hello = \"hello\"\n",
        "world = \"world\"\n",
        "print(hello) #hello\n",
        "print(len(hello)) #5\n",
        "hw = hello + \" \" + world \n",
        "print(hw) #hello world\n",
        "hw12 = \"%s %s %d\" % (hello, world, 12) #hello world 12\n",
        "print(hw12)"
      ],
      "execution_count": 0,
      "outputs": [
        {
          "output_type": "stream",
          "text": [
            "hello\n",
            "5\n",
            "hello world\n",
            "hello world 12\n"
          ],
          "name": "stdout"
        }
      ]
    },
    {
      "cell_type": "code",
      "metadata": {
        "id": "ENqc-i8CXyLf",
        "colab_type": "code",
        "outputId": "14c15416-d863-4d1e-a45f-ca4171478388",
        "colab": {
          "base_uri": "https://localhost:8080/",
          "height": 136
        }
      },
      "source": [
        "s = \"hello\"\n",
        "print(s.capitalize()) #Hello\n",
        "print(s.upper()) #HELLO\n",
        "print(s.rjust(7))#\"  hello\"\n",
        "print(s.ljust(7))#\"hello  \"\n",
        "print(s.center(7))#\" hello \"\n",
        "print(s.replace('l', '(ell)')) #he(ell)(ell)o\n",
        "print('  world '.strip()) #world"
      ],
      "execution_count": 0,
      "outputs": [
        {
          "output_type": "stream",
          "text": [
            "Hello\n",
            "HELLO\n",
            "  hello\n",
            "hello  \n",
            " hello \n",
            "he(ell)(ell)o\n",
            "world\n"
          ],
          "name": "stdout"
        }
      ]
    },
    {
      "cell_type": "markdown",
      "metadata": {
        "id": "epOg60F9aON0",
        "colab_type": "text"
      },
      "source": [
        "+ **Containers**\n",
        "      Lists, Dictionaries, Sets\n",
        "\n",
        " + **Lists**\n",
        " \n",
        "      A list is the Python equivalent of an array, but is resizeable and can contain elements of different types:"
      ]
    },
    {
      "cell_type": "code",
      "metadata": {
        "id": "aBB5SF4QaNg_",
        "colab_type": "code",
        "outputId": "42dfc42f-6539-4eed-f0a1-e86744534eec",
        "colab": {
          "base_uri": "https://localhost:8080/",
          "height": 136
        }
      },
      "source": [
        "xs = [3, 1, 2]\n",
        "print(xs, xs[2])  #[3, 1, 2] 2\n",
        "print(xs[-1]) #prints last element: 2\n",
        "print(xs[-2]) #prints 2nd element from end 1\n",
        "print(xs[-0]) #prints 1st element since -0 = 0 \n",
        "xs[2] = 'foo'  \n",
        "print(xs) #[3, 1, 'foo']\n",
        "xs.append('bar')\n",
        "print(xs) #[3, 1, 'foo', 'bar']\n",
        "x = xs.pop() #x=\"bar\"\n",
        "print(x,xs) #bar [3, 1, 'foo']"
      ],
      "execution_count": 0,
      "outputs": [
        {
          "output_type": "stream",
          "text": [
            "[3, 1, 2] 2\n",
            "2\n",
            "1\n",
            "3\n",
            "[3, 1, 'foo']\n",
            "[3, 1, 'foo', 'bar']\n",
            "bar [3, 1, 'foo']\n"
          ],
          "name": "stdout"
        }
      ]
    },
    {
      "cell_type": "markdown",
      "metadata": {
        "id": "GU21TtI4g6kj",
        "colab_type": "text"
      },
      "source": [
        "+ *Slicing*"
      ]
    },
    {
      "cell_type": "code",
      "metadata": {
        "id": "Ws08F53HhX53",
        "colab_type": "code",
        "outputId": "abf57ca2-947f-4e75-cbdd-b5dbec0807fb",
        "colab": {
          "base_uri": "https://localhost:8080/",
          "height": 153
        }
      },
      "source": [
        "nums = list(range(10))\n",
        "print(nums) #[0, 1, 2, 3, 4, 5, 6, 7, 8, 9]\n",
        "print(nums[2:4])  #[2, 3]\n",
        "print(nums[2:])  #a slice to the end: [2, 3, 4, 5, 6, 7, 8, 9]\n",
        "print(nums[:2]) # a slice till 2nd element: [0, 1]\n",
        "print(nums[:]) #whole list\n",
        "print(nums[:-1]) # a slice till last element: [0, 1, 2, 3, 4, 5, 6, 7, 8]\n",
        "print(nums[:-3]) # [0, 1, 2, 3, 4, 5, 6]\n",
        "nums[2:4] = [8, 9]\n",
        "print(nums) #[0, 1, 8, 9, 4, 5, 6, 7, 8, 9]"
      ],
      "execution_count": 0,
      "outputs": [
        {
          "output_type": "stream",
          "text": [
            "[0, 1, 2, 3, 4, 5, 6, 7, 8, 9]\n",
            "[2, 3]\n",
            "[2, 3, 4, 5, 6, 7, 8, 9]\n",
            "[0, 1]\n",
            "[0, 1, 2, 3, 4, 5, 6, 7, 8, 9]\n",
            "[0, 1, 2, 3, 4, 5, 6, 7, 8]\n",
            "[0, 1, 2, 3, 4, 5, 6]\n",
            "[0, 1, 8, 9, 4, 5, 6, 7, 8, 9]\n"
          ],
          "name": "stdout"
        }
      ]
    },
    {
      "cell_type": "markdown",
      "metadata": {
        "id": "1tEyVlwlicBY",
        "colab_type": "text"
      },
      "source": [
        "+  *Loops*"
      ]
    },
    {
      "cell_type": "code",
      "metadata": {
        "id": "biKBcWUvieIY",
        "colab_type": "code",
        "outputId": "c2f7d794-991a-4adc-a4d8-0227d0097618",
        "colab": {
          "base_uri": "https://localhost:8080/",
          "height": 68
        }
      },
      "source": [
        "animals = ['cat', 'dog', 'monkey']\n",
        "for animal in animals:\n",
        "    print(animal) #cat\n",
        "                  #dog\n",
        "                  #monkey"
      ],
      "execution_count": 0,
      "outputs": [
        {
          "output_type": "stream",
          "text": [
            "cat\n",
            "dog\n",
            "monkey\n"
          ],
          "name": "stdout"
        }
      ]
    },
    {
      "cell_type": "code",
      "metadata": {
        "id": "6implazgivWz",
        "colab_type": "code",
        "outputId": "0ebd6b50-ae90-4e68-c21f-8514f9dba8fe",
        "colab": {
          "base_uri": "https://localhost:8080/",
          "height": 68
        }
      },
      "source": [
        "#enumarate\n",
        "animals = ['cat', 'dog', 'monkey']\n",
        "for idx, animal in enumerate(animals):\n",
        "    print('#%d: %s' % (idx + 1, animal))\n",
        "# Prints \"#1: cat\", \"#2: dog\", \"#3: monkey\", each on its own line"
      ],
      "execution_count": 0,
      "outputs": [
        {
          "output_type": "stream",
          "text": [
            "#1: cat\n",
            "#2: dog\n",
            "#3: monkey\n"
          ],
          "name": "stdout"
        }
      ]
    },
    {
      "cell_type": "markdown",
      "metadata": {
        "id": "TQLZl2t3jUB6",
        "colab_type": "text"
      },
      "source": [
        "+ *List Comprehensions*"
      ]
    },
    {
      "cell_type": "code",
      "metadata": {
        "id": "gvBsDLm4jZnp",
        "colab_type": "code",
        "outputId": "f97afb9d-f1f8-4ce4-836a-a87c530232da",
        "colab": {
          "base_uri": "https://localhost:8080/",
          "height": 51
        }
      },
      "source": [
        "nums = range(10)\n",
        "print(nums) #range(0, 10)\n",
        "squares = [x**2 for x in nums]\n",
        "print(squares) #[0, 1, 4, 9, 16, 25, 36, 49, 64, 81]"
      ],
      "execution_count": 0,
      "outputs": [
        {
          "output_type": "stream",
          "text": [
            "range(0, 10)\n",
            "[0, 1, 4, 9, 16, 25, 36, 49, 64, 81]\n"
          ],
          "name": "stdout"
        }
      ]
    },
    {
      "cell_type": "code",
      "metadata": {
        "id": "k9YCzeldkTGl",
        "colab_type": "code",
        "outputId": "1e7aa9f9-5b08-4407-a38a-bebb8b624c96",
        "colab": {
          "base_uri": "https://localhost:8080/",
          "height": 34
        }
      },
      "source": [
        "#conditional comprehension\n",
        "cubes = [x**3 for x in nums if x%3 ==0]\n",
        "print(cubes) #[0, 27, 216, 729]"
      ],
      "execution_count": 0,
      "outputs": [
        {
          "output_type": "stream",
          "text": [
            "[0, 27, 216, 729]\n"
          ],
          "name": "stdout"
        }
      ]
    },
    {
      "cell_type": "markdown",
      "metadata": {
        "id": "JsQV0MUGknRl",
        "colab_type": "text"
      },
      "source": [
        "+ **Dictionaries**\n",
        "      key-value pairs"
      ]
    },
    {
      "cell_type": "code",
      "metadata": {
        "id": "JruKx-2FkyXG",
        "colab_type": "code",
        "outputId": "764448df-6cf0-4901-ab91-dffcdeeddbdd",
        "colab": {
          "base_uri": "https://localhost:8080/",
          "height": 136
        }
      },
      "source": [
        "d = {\"cat\": \"unpredictable\", \"dog\": \"loyal\", \"rabbit\": \"coward\"}\n",
        "print(d[\"cat\"]) #unpredictable\n",
        "print(\"dog\" in d) #True\n",
        "d[\"pig\"] = \"noisy\" #{'cat': 'unpredictable', 'dog': 'loyal', 'rabbit': 'coward', 'pig': 'noisy'}\n",
        "print(d)\n",
        "print(d.get('monkey')) #None\n",
        "print(d.get('monkey', 'N/A'))#N/A\n",
        "del d[\"pig\"]\n",
        "print(d) #{'cat': 'unpredictable', 'dog': 'loyal', 'rabbit': 'coward'}\n",
        "print(d.get('pig', 'N/A'))#N/A "
      ],
      "execution_count": 0,
      "outputs": [
        {
          "output_type": "stream",
          "text": [
            "unpredictable\n",
            "True\n",
            "{'cat': 'unpredictable', 'dog': 'loyal', 'rabbit': 'coward', 'pig': 'noisy'}\n",
            "None\n",
            "N/A\n",
            "{'cat': 'unpredictable', 'dog': 'loyal', 'rabbit': 'coward'}\n",
            "N/A\n"
          ],
          "name": "stdout"
        }
      ]
    },
    {
      "cell_type": "markdown",
      "metadata": {
        "id": "4f1cEWsWnISq",
        "colab_type": "text"
      },
      "source": [
        "+ *Loops*"
      ]
    },
    {
      "cell_type": "code",
      "metadata": {
        "id": "VLupuCuhnKO3",
        "colab_type": "code",
        "outputId": "0a695bd3-d3f5-47c4-8a71-e76be5d18f2e",
        "colab": {
          "base_uri": "https://localhost:8080/",
          "height": 85
        }
      },
      "source": [
        "d = {\"human\":2, \"spider\":8, \"bird\":2, \"donkey\":4}\n",
        "for animal in d:\n",
        "  legs = d[animal]\n",
        "  print('A %s has %d legs' % (animal, legs))"
      ],
      "execution_count": 0,
      "outputs": [
        {
          "output_type": "stream",
          "text": [
            "A human has 2 legs\n",
            "A spider has 8 legs\n",
            "A bird has 2 legs\n",
            "A donkey has 4 legs\n"
          ],
          "name": "stdout"
        }
      ]
    },
    {
      "cell_type": "markdown",
      "metadata": {
        "id": "8g2j69FqnyCN",
        "colab_type": "text"
      },
      "source": [
        "+ *Dictionary Comprehensions*"
      ]
    },
    {
      "cell_type": "code",
      "metadata": {
        "id": "Ki-umScdn32C",
        "colab_type": "code",
        "outputId": "1ec78365-0ae2-442f-f1ab-c32371e971d5",
        "colab": {
          "base_uri": "https://localhost:8080/",
          "height": 34
        }
      },
      "source": [
        "nums = range(10)\n",
        "odd2cube = {x: x**3 for x in nums if x%2 != 0}\n",
        "print(odd2cube) #{1: 1, 3: 27, 5: 125, 7: 343, 9: 729}"
      ],
      "execution_count": 0,
      "outputs": [
        {
          "output_type": "stream",
          "text": [
            "{1: 1, 3: 27, 5: 125, 7: 343, 9: 729}\n"
          ],
          "name": "stdout"
        }
      ]
    },
    {
      "cell_type": "markdown",
      "metadata": {
        "id": "-l0SaaB_qVet",
        "colab_type": "text"
      },
      "source": [
        "+ **Sets**"
      ]
    },
    {
      "cell_type": "code",
      "metadata": {
        "id": "OdhdfRhvrMYf",
        "colab_type": "code",
        "outputId": "d28fde27-201c-4bf1-93d8-4a15f5aab414",
        "colab": {
          "base_uri": "https://localhost:8080/",
          "height": 119
        }
      },
      "source": [
        "s = {\"cat\", \"dog\", \"bird\"}\n",
        "print(s) #{'dog', 'bird', 'cat'}\n",
        "print(\"cat\" in s) #True\n",
        "print(\"elephant\" in s) #False\n",
        "print(len(s)) #3\n",
        "s.add(\"fish\")\n",
        "print(s) #{'dog', 'fish', 'bird', 'cat'}\n",
        "s.remove(\"dog\")\n",
        "print(s) #{'fish', 'bird', 'cat'}"
      ],
      "execution_count": 0,
      "outputs": [
        {
          "output_type": "stream",
          "text": [
            "{'dog', 'bird', 'cat'}\n",
            "True\n",
            "False\n",
            "3\n",
            "{'dog', 'fish', 'bird', 'cat'}\n",
            "{'fish', 'bird', 'cat'}\n"
          ],
          "name": "stdout"
        }
      ]
    },
    {
      "cell_type": "markdown",
      "metadata": {
        "id": "ucwqOgsksMkU",
        "colab_type": "text"
      },
      "source": [
        "*Loops*\n",
        "\n",
        "Since sets are unordered, you cannot make assumptions about the order in which you visit the elements of the set:"
      ]
    },
    {
      "cell_type": "code",
      "metadata": {
        "id": "bq_oJPr4sgdr",
        "colab_type": "code",
        "outputId": "c2e806a2-98e4-4b3b-d564-a1beb311b1cc",
        "colab": {
          "base_uri": "https://localhost:8080/",
          "height": 68
        }
      },
      "source": [
        "for idx, animal in enumerate(s):\n",
        "  print(\"%d: %s\" %(idx+1,animal))\n",
        "  "
      ],
      "execution_count": 0,
      "outputs": [
        {
          "output_type": "stream",
          "text": [
            "1: fish\n",
            "2: bird\n",
            "3: cat\n"
          ],
          "name": "stdout"
        }
      ]
    },
    {
      "cell_type": "markdown",
      "metadata": {
        "id": "mzUQYz0ZtB6f",
        "colab_type": "text"
      },
      "source": [
        "*Set Comprehensions*"
      ]
    },
    {
      "cell_type": "code",
      "metadata": {
        "id": "XgoPlxHgsOzx",
        "colab_type": "code",
        "outputId": "456c7253-d297-4e21-b04d-dd018a38a4d4",
        "colab": {
          "base_uri": "https://localhost:8080/",
          "height": 71
        }
      },
      "source": [
        "from math import sqrt\n",
        "nums = {int(sqrt(x)) for x in range(100)}\n",
        "print(nums)  # {0, 1, 2, 3, 4, 5, 6, 7, 8, 9}\n",
        "nums2 = {(sqrt(x)) for x in range(100)}\n",
        "print(nums2) #{0.0, 1.0, 2.0, 1.7320508075688772, 1.4142135623730951, ...}"
      ],
      "execution_count": 0,
      "outputs": [
        {
          "output_type": "stream",
          "text": [
            "{0, 1, 2, 3, 4, 5, 6, 7, 8, 9}\n",
            "{0.0, 1.0, 2.0, 1.7320508075688772, 1.4142135623730951, 2.23606797749979, 2.449489742783178, 2.6457513110645907, 2.8284271247461903, 3.0, 3.1622776601683795, 3.3166247903554, 3.4641016151377544, 4.0, 5.0, 6.0, 7.0, 8.0, 9.0, 4.47213595499958, 5.196152422706632, 5.744562646538029, 6.4031242374328485, 6.557438524302, 7.0710678118654755, 7.416198487095663, 7.615773105863909, 7.810249675906654, 8.888194417315589, 8.06225774829855, 8.12403840463596, 8.94427190999916, 8.831760866327848, 9.055385138137417, 9.1104335791443, 9.273618495495704, 9.643650760992955, 4.242640687119285, 4.358898943540674, 6.082762530298219, 6.164414002968976, 7.280109889280518, 7.483314773547883, 3.605551275463989, 5.291502622129181, 5.830951894845301, 6.244997998398398, 6.928203230275509, 7.745966692414834, 7.874007874011811, 8.48528137423857, 8.717797887081348, 8.306623862918075, 9.16515138991168, 9.433981132056603, 9.746794344808963, 5.385164807134504, 5.5677643628300215, 6.324555320336759, 6.782329983125268, 7.211102550927978, 7.681145747868608, 6.48074069840786, 6.6332495807108, 6.708203932499369, 7.54983443527075, 8.602325267042627, 8.426149773176359, 9.219544457292887, 9.327379053088816, 3.7416573867739413, 9.486832980505138, 9.591663046625438, 9.695359714832659, 9.797958971132712, 9.848857801796104, 3.872983346207417, 4.58257569495584, 5.656854249492381, 5.916079783099616, 4.795831523312719, 4.898979485566356, 5.0990195135927845, 6.855654600401044, 7.14142842854285, 7.3484692283495345, 8.18535277187245, 8.366600265340756, 8.774964387392123, 8.54400374531753, 8.246211251235321, 8.660254037844387, 9.38083151964686, 9.539392014169456, 9.899494936611665, 9.9498743710662, 4.123105625617661, 4.69041575982343, 5.477225575051661, 7.937253933193772}\n"
          ],
          "name": "stdout"
        }
      ]
    },
    {
      "cell_type": "markdown",
      "metadata": {
        "id": "HT_bJajZvLII",
        "colab_type": "text"
      },
      "source": [
        "+ **Tuples**\n",
        "\n",
        "  A tuple is an (immutable) ordered list of values."
      ]
    },
    {
      "cell_type": "code",
      "metadata": {
        "id": "Wi0HkV6Kw7sp",
        "colab_type": "code",
        "outputId": "a7bf6621-f7e1-4568-b95e-29a2a834b695",
        "colab": {
          "base_uri": "https://localhost:8080/",
          "height": 214
        }
      },
      "source": [
        "t = (5,6) #create a tuple\n",
        "t = (7,8) #recreate\n",
        "t[0]=0 #try to mutate: TypeError: 'tuple' object does not support item assignment"
      ],
      "execution_count": 0,
      "outputs": [
        {
          "output_type": "stream",
          "text": [
            "True\n"
          ],
          "name": "stdout"
        },
        {
          "output_type": "error",
          "ename": "TypeError",
          "evalue": "ignored",
          "traceback": [
            "\u001b[0;31m---------------------------------------------------------------------------\u001b[0m",
            "\u001b[0;31mTypeError\u001b[0m                                 Traceback (most recent call last)",
            "\u001b[0;32m<ipython-input-89-ee953037e369>\u001b[0m in \u001b[0;36m<module>\u001b[0;34m()\u001b[0m\n\u001b[1;32m      3\u001b[0m \u001b[0mt\u001b[0m \u001b[0;34m=\u001b[0m \u001b[0;34m(\u001b[0m\u001b[0;36m5\u001b[0m\u001b[0;34m,\u001b[0m\u001b[0;36m6\u001b[0m\u001b[0;34m)\u001b[0m\u001b[0;34m\u001b[0m\u001b[0;34m\u001b[0m\u001b[0m\n\u001b[1;32m      4\u001b[0m \u001b[0mt\u001b[0m \u001b[0;34m=\u001b[0m \u001b[0;34m(\u001b[0m\u001b[0;36m7\u001b[0m\u001b[0;34m,\u001b[0m\u001b[0;36m8\u001b[0m\u001b[0;34m)\u001b[0m\u001b[0;34m\u001b[0m\u001b[0;34m\u001b[0m\u001b[0m\n\u001b[0;32m----> 5\u001b[0;31m \u001b[0mt\u001b[0m\u001b[0;34m[\u001b[0m\u001b[0;36m0\u001b[0m\u001b[0;34m]\u001b[0m\u001b[0;34m=\u001b[0m\u001b[0;36m0\u001b[0m\u001b[0;34m\u001b[0m\u001b[0;34m\u001b[0m\u001b[0m\n\u001b[0m",
            "\u001b[0;31mTypeError\u001b[0m: 'tuple' object does not support item assignment"
          ]
        }
      ]
    },
    {
      "cell_type": "markdown",
      "metadata": {
        "id": "UsD0piGLzmjS",
        "colab_type": "text"
      },
      "source": [
        "Tuples can be used as keys in dictionaries and as elements of sets, while lists cannot. "
      ]
    },
    {
      "cell_type": "code",
      "metadata": {
        "id": "7EQmYdh8zkP5",
        "colab_type": "code",
        "outputId": "3387f10d-f0bb-4608-acf7-b08b469b8177",
        "colab": {
          "base_uri": "https://localhost:8080/",
          "height": 51
        }
      },
      "source": [
        "d = {(x, x + 1): x for x in range(10)} \n",
        "print(d) #{(0, 1): 0, (1, 2): 1, (2, 3): 2, (3, 4): 3, (4, 5): 4, (5, 6): 5, (6, 7): 6, (7, 8): 7, (8, 9): 8, (9, 10): 9}\n",
        "print(d[(1, 2)]) #1"
      ],
      "execution_count": 0,
      "outputs": [
        {
          "output_type": "stream",
          "text": [
            "{(0, 1): 0, (1, 2): 1, (2, 3): 2, (3, 4): 3, (4, 5): 4, (5, 6): 5, (6, 7): 6, (7, 8): 7, (8, 9): 8, (9, 10): 9}\n",
            "1\n"
          ],
          "name": "stdout"
        }
      ]
    },
    {
      "cell_type": "markdown",
      "metadata": {
        "id": "n7TZg7k00kGA",
        "colab_type": "text"
      },
      "source": [
        "## Functions"
      ]
    },
    {
      "cell_type": "code",
      "metadata": {
        "id": "F5Rr66Xw0yjc",
        "colab_type": "code",
        "outputId": "ad0a19d1-1af8-4e1c-fd4b-a21807543922",
        "colab": {
          "base_uri": "https://localhost:8080/",
          "height": 51
        }
      },
      "source": [
        "def greet(name, loud = False):\n",
        "  s = \"Hello\" + \" \" + name.capitalize() \n",
        "  if loud:\n",
        "    s += \"!\"\n",
        "    print(s.upper())\n",
        "  else:\n",
        "    print(s)\n",
        "    \n",
        "greet(\"duygu\")\n",
        "greet(\"duygu\", loud=True)"
      ],
      "execution_count": 0,
      "outputs": [
        {
          "output_type": "stream",
          "text": [
            "Hello Duygu\n",
            "HELLO DUYGU!\n"
          ],
          "name": "stdout"
        }
      ]
    },
    {
      "cell_type": "markdown",
      "metadata": {
        "id": "sY-4Q_r317z4",
        "colab_type": "text"
      },
      "source": [
        "## Classes"
      ]
    },
    {
      "cell_type": "code",
      "metadata": {
        "id": "oDqlOFqe16jP",
        "colab_type": "code",
        "outputId": "8f66ef52-63bc-49ca-e0c8-6a2ae9674b3b",
        "colab": {
          "base_uri": "https://localhost:8080/",
          "height": 34
        }
      },
      "source": [
        "class Greeter(object):\n",
        "  \n",
        "  def __init__(self,name):\n",
        "    self.name = name\n",
        "    \n",
        "  def greet(self, loud = False):\n",
        "    s = \"Hello\" + \" \" + self.name.capitalize() \n",
        "    if loud:\n",
        "      s += \"!\"\n",
        "      print(s.upper())\n",
        "    else:\n",
        "      print(s)\n",
        "      \n",
        "g = Greeter(\"duygu\")\n",
        "g.greet(loud=True)"
      ],
      "execution_count": 0,
      "outputs": [
        {
          "output_type": "stream",
          "text": [
            "HELLO DUYGU!\n"
          ],
          "name": "stdout"
        }
      ]
    },
    {
      "cell_type": "markdown",
      "metadata": {
        "id": "cxgds_AJBLHs",
        "colab_type": "text"
      },
      "source": [
        "## NumPy"
      ]
    },
    {
      "cell_type": "code",
      "metadata": {
        "id": "fYiVynENBSlH",
        "colab_type": "code",
        "colab": {}
      },
      "source": [
        "import numpy as np"
      ],
      "execution_count": 0,
      "outputs": []
    },
    {
      "cell_type": "markdown",
      "metadata": {
        "id": "iY2yld3EDCxK",
        "colab_type": "text"
      },
      "source": [
        "### Arrays"
      ]
    },
    {
      "cell_type": "code",
      "metadata": {
        "id": "Foe925AGDUSg",
        "colab_type": "code",
        "outputId": "cf37c5a5-e747-4ac6-cbb8-d2a0878dfbc5",
        "colab": {
          "base_uri": "https://localhost:8080/",
          "height": 85
        }
      },
      "source": [
        "a = np.array([1, 2, 3])\n",
        "print(type(a)) #<class 'numpy.ndarray'>\n",
        "print(a.shape) #(3,)\n",
        "print(a[0]) #1\n",
        "a[0] = 1000\n",
        "print(a) #[1000    2    3]"
      ],
      "execution_count": 0,
      "outputs": [
        {
          "output_type": "stream",
          "text": [
            "<class 'numpy.ndarray'>\n",
            "(3,)\n",
            "1\n",
            "[1000    2    3]\n"
          ],
          "name": "stdout"
        }
      ]
    },
    {
      "cell_type": "code",
      "metadata": {
        "id": "6e8eB5LXEjUl",
        "colab_type": "code",
        "outputId": "625bcb40-117d-4d3c-e039-c181109bc18a",
        "colab": {
          "base_uri": "https://localhost:8080/",
          "height": 85
        }
      },
      "source": [
        "b = np.array([[1,2,3],[4,5,6]]) \n",
        "print(b) #[[1 2 3]\n",
        "         # [4 5 6]]\n",
        "print(b.shape) #(2, 3)\n",
        "print(b[0, 0], b[0, 1], b[1, 0]) #1 2 4\n"
      ],
      "execution_count": 0,
      "outputs": [
        {
          "output_type": "stream",
          "text": [
            "[[1 2 3]\n",
            " [4 5 6]]\n",
            "(2, 3)\n",
            "1 2 4\n"
          ],
          "name": "stdout"
        }
      ]
    },
    {
      "cell_type": "code",
      "metadata": {
        "id": "CrI3ltTYFdnf",
        "colab_type": "code",
        "outputId": "589d28b9-83c6-417f-f628-7621e1d2c5b2",
        "colab": {
          "base_uri": "https://localhost:8080/",
          "height": 119
        }
      },
      "source": [
        "a = np.full([3,3],10)\n",
        "print(a)\n",
        "b = np.random.random([3,3])\n",
        "print(b)"
      ],
      "execution_count": 0,
      "outputs": [
        {
          "output_type": "stream",
          "text": [
            "[[10 10 10]\n",
            " [10 10 10]\n",
            " [10 10 10]]\n",
            "[[0.52730461 0.99989797 0.13722231]\n",
            " [0.32621847 0.4268877  0.2139858 ]\n",
            " [0.3178425  0.05205959 0.35190912]]\n"
          ],
          "name": "stdout"
        }
      ]
    },
    {
      "cell_type": "markdown",
      "metadata": {
        "id": "DCtZnoRbGAyF",
        "colab_type": "text"
      },
      "source": [
        "#### Array Indexing\n",
        "\n",
        "+ **Slicing**"
      ]
    },
    {
      "cell_type": "code",
      "metadata": {
        "id": "o8f_D0KJF7we",
        "colab_type": "code",
        "outputId": "c3e65f5c-e98d-48f4-cf76-f431e63f2021",
        "colab": {
          "base_uri": "https://localhost:8080/",
          "height": 102
        }
      },
      "source": [
        "a = np.array([[1,2,3,4], [5,6,7,8], [9,10,11,12]])\n",
        "print(a)\n",
        "b = a[:2, 1:3]\n",
        "print(b)"
      ],
      "execution_count": 0,
      "outputs": [
        {
          "output_type": "stream",
          "text": [
            "[[ 1  2  3  4]\n",
            " [ 5  6  7  8]\n",
            " [ 9 10 11 12]]\n",
            "[[2 3]\n",
            " [6 7]]\n"
          ],
          "name": "stdout"
        }
      ]
    },
    {
      "cell_type": "code",
      "metadata": {
        "id": "roje3ObnHR_K",
        "colab_type": "code",
        "outputId": "2bfb53a3-c498-420b-ec2a-8119e7c49811",
        "colab": {
          "base_uri": "https://localhost:8080/",
          "height": 51
        }
      },
      "source": [
        "row_r1 = a[1, :]    # Rank 1 view of the second row of a\n",
        "row_r2 = a[1:2, :]  # Rank 2 view of the second row of a\n",
        "print(row_r1, row_r1.shape)  # Prints \"[5 6 7 8] (4,)\"\n",
        "print(row_r2, row_r2.shape)  # Prints \"[[5 6 7 8]] (1, 4)\""
      ],
      "execution_count": 0,
      "outputs": [
        {
          "output_type": "stream",
          "text": [
            "[5 6 7 8] (4,)\n",
            "[[5 6 7 8]] (1, 4)\n"
          ],
          "name": "stdout"
        }
      ]
    },
    {
      "cell_type": "markdown",
      "metadata": {
        "id": "cXgR0V5wG1KT",
        "colab_type": "text"
      },
      "source": [
        "+ **Integer array indexing**"
      ]
    },
    {
      "cell_type": "code",
      "metadata": {
        "id": "zpvkPNzYKPnQ",
        "colab_type": "code",
        "outputId": "3d030c10-ebe1-4168-a402-b08dc7fa6ce4",
        "colab": {
          "base_uri": "https://localhost:8080/",
          "height": 85
        }
      },
      "source": [
        "a = np.array([[1,2], [3, 4], [5, 6]])\n",
        "print(a)\n",
        "print(a[[0, 1, 2], [0, 1, 0]])  # Prints \"[1 4 5]\" since it is equivalent to a(0,0), a(1,1), a(2,0)"
      ],
      "execution_count": 0,
      "outputs": [
        {
          "output_type": "stream",
          "text": [
            "[[1 2]\n",
            " [3 4]\n",
            " [5 6]]\n",
            "[1 4 5]\n"
          ],
          "name": "stdout"
        }
      ]
    },
    {
      "cell_type": "markdown",
      "metadata": {
        "id": "6cZp3Ibvf2rI",
        "colab_type": "text"
      },
      "source": [
        "Selecting or mutating one element from each row of a matrix while integer array indexing"
      ]
    },
    {
      "cell_type": "code",
      "metadata": {
        "id": "Y-RLKEMFf6jr",
        "colab_type": "code",
        "colab": {
          "base_uri": "https://localhost:8080/",
          "height": 85
        },
        "outputId": "897878c0-47b9-4691-9f77-af8c3e33561f"
      },
      "source": [
        "import numpy as np\n",
        "a = np.array([[1,2,3], [4,5,6], [7,8,9], [10, 11, 12]])\n",
        "print(a)"
      ],
      "execution_count": 2,
      "outputs": [
        {
          "output_type": "stream",
          "text": [
            "[[ 1  2  3]\n",
            " [ 4  5  6]\n",
            " [ 7  8  9]\n",
            " [10 11 12]]\n"
          ],
          "name": "stdout"
        }
      ]
    }
  ]
}